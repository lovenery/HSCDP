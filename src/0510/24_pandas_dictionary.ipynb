{
 "cells": [
  {
   "cell_type": "code",
   "execution_count": 4,
   "metadata": {
    "collapsed": false,
    "deletable": true,
    "editable": true
   },
   "outputs": [
    {
     "name": "stdout",
     "output_type": "stream",
     "text": [
      "Ivy      90000\n",
      "David    85000\n",
      "Mary     20000\n",
      "John     50000\n",
      "Steve    35000\n",
      "dtype: object\n",
      "--------------\n",
      "90000\n",
      "90000\n",
      "Ivy      90000\n",
      "David    85000\n",
      "John     50000\n",
      "dtype: object\n",
      "John     50000\n",
      "Ivy      90000\n",
      "David    85000\n",
      "dtype: object\n"
     ]
    }
   ],
   "source": [
    "# 字典\n",
    "import pandas as pd\n",
    "SalarysDic ={\"John\":'50000',\n",
    "\"Mary\":'20000',\n",
    "\"Ivy\":'90000',\n",
    "\"Steve\":'35000',\n",
    "\"David\":'85000'\n",
    "}\n",
    "myDic = pd.Series(SalarysDic,index=SalarysDic.keys())\n",
    "print(myDic)\n",
    "print('--------------')\n",
    "print(myDic[0])\n",
    "print(myDic['Ivy'])\n",
    "print(myDic[[0,1,3]])\n",
    "print(myDic[['John','Ivy','David']])"
   ]
  },
  {
   "cell_type": "code",
   "execution_count": null,
   "metadata": {
    "collapsed": true,
    "deletable": true,
    "editable": true
   },
   "outputs": [],
   "source": []
  }
 ],
 "metadata": {
  "kernelspec": {
   "display_name": "Python 3",
   "language": "python",
   "name": "python3"
  },
  "language_info": {
   "codemirror_mode": {
    "name": "ipython",
    "version": 3
   },
   "file_extension": ".py",
   "mimetype": "text/x-python",
   "name": "python",
   "nbconvert_exporter": "python",
   "pygments_lexer": "ipython3",
   "version": "3.4.3"
  }
 },
 "nbformat": 4,
 "nbformat_minor": 2
}

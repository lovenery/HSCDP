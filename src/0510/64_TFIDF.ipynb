{
 "cells": [
  {
   "cell_type": "code",
   "execution_count": 2,
   "metadata": {
    "collapsed": false,
    "deletable": true,
    "editable": true
   },
   "outputs": [
    {
     "name": "stdout",
     "output_type": "stream",
     "text": [
      "獲取詞袋中所有文本關鍵詞\n",
      "['and', 'document', 'first', 'is', 'one', 'second', 'the', 'third', 'this']\n",
      "查看詞頻結果\n",
      "[[0 1 1 1 0 0 1 0 1]\n",
      " [0 1 0 1 0 2 1 0 1]\n",
      " [1 0 0 0 1 0 1 1 0]\n",
      " [0 1 1 1 0 0 1 0 1]]\n",
      "transformer結果\n",
      "TfidfTransformer(norm='l2', smooth_idf=True, sublinear_tf=False, use_idf=True)\n",
      "查看tfidf結果\n",
      "[[ 0.          0.43877674  0.54197657  0.43877674  0.          0.\n",
      "   0.35872874  0.          0.43877674]\n",
      " [ 0.          0.27230147  0.          0.27230147  0.          0.85322574\n",
      "   0.22262429  0.          0.27230147]\n",
      " [ 0.55280532  0.          0.          0.          0.55280532  0.\n",
      "   0.28847675  0.55280532  0.        ]\n",
      " [ 0.          0.43877674  0.54197657  0.43877674  0.          0.\n",
      "   0.35872874  0.          0.43877674]]\n"
     ]
    }
   ],
   "source": [
    "from sklearn.feature_extraction.text import CountVectorizer  \n",
    "  \n",
    "#語料  \n",
    "corpus = [  \n",
    "    'This is the first document.',  \n",
    "    'This is the second second document.',  \n",
    "    'And the third one.',  \n",
    "    'Is this the first document?',  \n",
    "]  \n",
    "#將文本中的詞語轉換為詞頻矩陣\n",
    "vectorizer = CountVectorizer()  \n",
    "#計算個詞語出現的次數\n",
    "X = vectorizer.fit_transform(corpus)  \n",
    "#獲取詞袋中所有文本關鍵詞\n",
    "word = vectorizer.get_feature_names()  \n",
    "print('獲取詞袋中所有文本關鍵詞')\n",
    "print(word)  \n",
    "#查看詞頻結果\n",
    "print('查看詞頻結果')\n",
    "print(X.toarray())  \n",
    "  \n",
    "from sklearn.feature_extraction.text import TfidfTransformer  \n",
    "  \n",
    "#統計vectorizer中詞頻矩陣 \n",
    "transformer = TfidfTransformer()\n",
    "print('transformer結果')\n",
    "print(transformer)  \n",
    "#將詞頻矩陣X統計成TF-IDF值 \n",
    "tfidf = transformer.fit_transform(X)  \n",
    "#查看數據結構tfidf [i] [j]表示i類文本中的tf-idf權重 \n",
    "print('查看tfidf結果')\n",
    "print(tfidf.toarray())  "
   ]
  },
  {
   "cell_type": "code",
   "execution_count": null,
   "metadata": {
    "collapsed": true,
    "deletable": true,
    "editable": true
   },
   "outputs": [],
   "source": []
  }
 ],
 "metadata": {
  "kernelspec": {
   "display_name": "Python 3",
   "language": "python",
   "name": "python3"
  },
  "language_info": {
   "codemirror_mode": {
    "name": "ipython",
    "version": 3
   },
   "file_extension": ".py",
   "mimetype": "text/x-python",
   "name": "python",
   "nbconvert_exporter": "python",
   "pygments_lexer": "ipython3",
   "version": "3.4.3"
  }
 },
 "nbformat": 4,
 "nbformat_minor": 2
}

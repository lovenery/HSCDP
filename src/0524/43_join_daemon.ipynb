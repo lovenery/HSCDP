{
 "cells": [
  {
   "cell_type": "code",
   "execution_count": null,
   "metadata": {
    "collapsed": false,
    "deletable": true,
    "editable": true
   },
   "outputs": [],
   "source": [
    "import threading\n",
    "import time\n",
    "\n",
    "threads = []\n",
    "\n",
    "def wait():\n",
    "    time.sleep(20)\n",
    "\n",
    "for i in range(0,5):\n",
    "    threads.append(threading.Thread(target=wait))\n",
    "\n",
    "start = time.time()\n",
    "\n",
    "for t in threads:\n",
    "    t.daemon=True\n",
    "    t.start()\n",
    "\n",
    "#Use Thread.join()\n",
    "for t in threads:\n",
    "    t.join()\n",
    "    \n",
    "print('Time with join :',time.time() - start)\n",
    "\n",
    "\n",
    "threads1 = []\n",
    "for i in range(0,5):\n",
    "    threads1.append(threading.Thread(target=wait))\n",
    "start = time.time()\n",
    "for t in threads1:\n",
    "    t.daemon=True\n",
    "    t.start()\n",
    "print('Time without join:',time.time() - start)\n",
    "    "
   ]
  },
  {
   "cell_type": "code",
   "execution_count": null,
   "metadata": {
    "collapsed": true,
    "deletable": true,
    "editable": true
   },
   "outputs": [],
   "source": []
  }
 ],
 "metadata": {
  "kernelspec": {
   "display_name": "Python 3",
   "language": "python",
   "name": "python3"
  },
  "language_info": {
   "codemirror_mode": {
    "name": "ipython",
    "version": 3
   },
   "file_extension": ".py",
   "mimetype": "text/x-python",
   "name": "python",
   "nbconvert_exporter": "python",
   "pygments_lexer": "ipython3",
   "version": "3.4.3"
  }
 },
 "nbformat": 4,
 "nbformat_minor": 2
}

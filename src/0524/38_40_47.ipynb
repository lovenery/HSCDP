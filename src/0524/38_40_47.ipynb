{
 "cells": [
  {
   "cell_type": "code",
   "execution_count": 14,
   "metadata": {
    "collapsed": false,
    "deletable": true,
    "editable": true
   },
   "outputs": [
    {
     "name": "stdout",
     "output_type": "stream",
     "text": [
      "Child thread: Main thread:0 \n",
      "0\n",
      "Main thread:Child thread:  11\n",
      "\n",
      "Child thread:Main thread: 2 \n",
      "2\n",
      "Child thread: 3\n",
      "Child thread: 4\n",
      "Done.\n"
     ]
    }
   ],
   "source": [
    "#38_create_threading\n",
    "import threading\n",
    "import time\n",
    "\n",
    "# 子執行緒的工作函數\n",
    "def job():\n",
    "  for i in range(5):\n",
    "    print(\"Child thread:\", i)\n",
    "    time.sleep(1)\n",
    "\n",
    "# 建立一個子執行緒\n",
    "t = threading.Thread(target = job)\n",
    "\n",
    "# 執行該子執行緒\n",
    "t.start()\n",
    "\n",
    "# 主執行緒繼續執行自己的工作\n",
    "for i in range(3):\n",
    "  print(\"Main thread:\", i)\n",
    "  time.sleep(1)\n",
    "\n",
    "# 等待 t 這個子執行緒結束\n",
    "t.join()\n",
    "\n",
    "print(\"Done.\")"
   ]
  },
  {
   "cell_type": "code",
   "execution_count": 1,
   "metadata": {
    "collapsed": false,
    "deletable": true,
    "editable": true
   },
   "outputs": [
    {
     "name": "stdout",
     "output_type": "stream",
     "text": [
      "ThreadThreadThreadThread   3 12\n",
      "0\n",
      "\n",
      "\n",
      "Done.\n"
     ]
    }
   ],
   "source": [
    "#40_multithreads\n",
    "import threading\n",
    "import time\n",
    "\n",
    "# 子執行緒的工作函數\n",
    "def job(num):\n",
    "  print(\"Thread\", num)\n",
    "  time.sleep(1)\n",
    "\n",
    "# 建立 4 個子執行緒\n",
    "threads = []\n",
    "for i in range(4):\n",
    "  threads.append(threading.Thread(target = job, args = (i,)))\n",
    "  threads[i].start()\n",
    "\n",
    "# 主執行緒繼續執行自己的工作\n",
    "# ...\n",
    "\n",
    "# 等待所有子執行緒結束\n",
    "for i in range(4):\n",
    "  threads[i].join()\n",
    "\n",
    "print(\"Done.\")"
   ]
  },
  {
   "cell_type": "code",
   "execution_count": 10,
   "metadata": {
    "collapsed": false,
    "deletable": true,
    "editable": true,
    "scrolled": true
   },
   "outputs": [
    {
     "name": "stdout",
     "output_type": "stream",
     "text": [
      "Worker 1: Data 0Worker 2: Data 1\n",
      "\n",
      "Worker 2: Data 2Worker 1: Data 3\n",
      "\n",
      "Worker 1: Data 4Worker 2: Data 5\n",
      "\n",
      "Worker 1: Data 6\n",
      "Worker 2: Data 7\n",
      "Worker 1: Data 8Worker 2: Data 9\n",
      "\n",
      "Done.\n"
     ]
    }
   ],
   "source": [
    "#47_queue\n",
    "import time\n",
    "import threading\n",
    "import queue\n",
    "\n",
    "# Worker 類別，負責處理資料\n",
    "class Worker(threading.Thread):\n",
    "  def __init__(self, queue, num):\n",
    "    threading.Thread.__init__(self)\n",
    "    self.queue = queue\n",
    "    self.num = num\n",
    "\n",
    "  def run(self):\n",
    "    while self.queue.qsize() > 0:\n",
    "      # 取得新的資料\n",
    "      msg = self.queue.get()\n",
    "\n",
    "      # 處理資料\n",
    "      print(\"Worker %d: %s\" % (self.num, msg))\n",
    "      time.sleep(1)\n",
    "\n",
    "# 建立佇列\n",
    "my_queue = queue.Queue()\n",
    "\n",
    "# 將資料放入佇列\n",
    "for i in range(10):\n",
    "  my_queue.put(\"Data %d\" % i)\n",
    "\n",
    "# 建立兩個 Worker\n",
    "my_worker1 = Worker(my_queue, 1)\n",
    "my_worker2 = Worker(my_queue, 2)\n",
    "\n",
    "# 讓 Worker 開始處理資料\n",
    "my_worker1.start()\n",
    "my_worker2.start()\n",
    "\n",
    "# 等待所有 Worker 結束\n",
    "my_worker1.join()\n",
    "my_worker2.join()\n",
    "\n",
    "print(\"Done.\")"
   ]
  },
  {
   "cell_type": "code",
   "execution_count": null,
   "metadata": {
    "collapsed": true,
    "deletable": true,
    "editable": true
   },
   "outputs": [],
   "source": []
  }
 ],
 "metadata": {
  "kernelspec": {
   "display_name": "Python 3",
   "language": "python",
   "name": "python3"
  },
  "language_info": {
   "codemirror_mode": {
    "name": "ipython",
    "version": 3
   },
   "file_extension": ".py",
   "mimetype": "text/x-python",
   "name": "python",
   "nbconvert_exporter": "python",
   "pygments_lexer": "ipython3",
   "version": "3.4.3"
  }
 },
 "nbformat": 4,
 "nbformat_minor": 2
}

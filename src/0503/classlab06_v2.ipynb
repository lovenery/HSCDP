{
 "cells": [
  {
   "cell_type": "code",
   "execution_count": null,
   "metadata": {
    "collapsed": false
   },
   "outputs": [],
   "source": [
    "# Lab01\n",
    "'''\n",
    "list_example = ['only one']\n",
    "tuple_example = ('one minute',60)\n",
    "dict_example={'weather': 'sunny day', 'language': 'Python'}\n",
    "dict_example['number'] = 35\n",
    "str_example='cold'\n",
    "print('list',len(list_example))\n",
    "print('tuple',len(tuple_example))\n",
    "print('dictionary',len(dict_example))\n",
    "print('string',len(str_example))\n",
    "\n",
    "練習:\n",
    "    讀取class06.txt 使用len()計算該文章字數\n",
    "    提示:\n",
    "        使用str.split()對空白進行切割\n",
    "'''\n"
   ]
  },
  {
   "cell_type": "code",
   "execution_count": null,
   "metadata": {
    "collapsed": false
   },
   "outputs": [],
   "source": [
    "# Lab02\n",
    "'''\n",
    "def say_hello_to(username):\n",
    "    print('Hello {}!'.format(username))\n",
    "\n",
    "say_hello_to('Joy')\n",
    "\n",
    "練習:\n",
    "    1. 建立一函式，get_fahrenheit(celsius)\n",
    "    2. 使用該函式 get_fahrenheit(34)\n",
    "       將輸出 '攝氏34度 等於 華氏93.2度'\n",
    "'''"
   ]
  },
  {
   "cell_type": "code",
   "execution_count": null,
   "metadata": {
    "collapsed": false
   },
   "outputs": [],
   "source": [
    "# Lab03\n",
    "'''\n",
    "#全域變數與區域變數的區別\n",
    "\n",
    "y = 3             #全域變數y\n",
    "def f(x):\n",
    "    y = x ** 2    #這是區域變數y\n",
    "    print(y)      #印出區域變數y,值是9\n",
    "f(3)\n",
    "print(y)          #印出全域變數y,值是3\n",
    "\n",
    "\n",
    "#利用global將y宣告為全域變數\n",
    "\n",
    "y = 3\n",
    "def f(x):\n",
    "    global y      #以global宣告y是全域變數\n",
    "    y = x ** 2\n",
    "    print(y)      #印出區域變數y,值是9\n",
    "f(3)\n",
    "print(y)          #印出區域變數y,值是9\n",
    "\n",
    "'''"
   ]
  },
  {
   "cell_type": "code",
   "execution_count": null,
   "metadata": {
    "collapsed": false
   },
   "outputs": [],
   "source": [
    "# Lab04\n",
    "'''\n",
    "# 回傳結果\n",
    "def a(temp):\n",
    "    return temp\n",
    "\n",
    "# 不回傳結果\n",
    "def b(temp):\n",
    "    print(temp)\n",
    "\n",
    "# 執行到return 接下來的不執行 \n",
    "def c(temp):\n",
    "    return temp\n",
    "    print(temp)\n",
    "\n",
    "print('a function：',a(1))\n",
    "print('b function：',b(2))\n",
    "print('c function：',c(3))\n",
    "\n",
    "練習:\n",
    "    定義函式c2f(c)，將攝氏轉換華氏並回傳華氏\n",
    "\n",
    "'''"
   ]
  },
  {
   "cell_type": "code",
   "execution_count": null,
   "metadata": {
    "collapsed": false
   },
   "outputs": [],
   "source": [
    "# Lab05\n",
    "'''\n",
    "#利用遞迴函式來計算階乘n!\n",
    "階乘定義：\n",
    "n! = n * (n-1)!  如果n大於或等於2\n",
    "n! = 1           如果n等於1或0\n",
    "\n",
    "def fact_r(n):\n",
    "    if n == 1 or n == 0:        #終止條件\n",
    "        return 1\n",
    "    else:\n",
    "        return n * fact_r(n-1)  #遞迴呼叫\n",
    "\n",
    "fact = int(input(\"請輸入欲計算的階乘n值：\"))\n",
    "print(fact,\"的階乘 ＝\",fact_r(fact))\n",
    "\n",
    "練習：\n",
    "    定義函式gcd_r，用來計算兩數\n",
    "    的最大公因數\n",
    "\n",
    "'''"
   ]
  },
  {
   "cell_type": "code",
   "execution_count": null,
   "metadata": {
    "collapsed": false
   },
   "outputs": [],
   "source": [
    "# Lab06\n",
    "'''\n",
    "#觀察遞迴函式中值的變化\n",
    "def int_equal(i,j):                  \n",
    "    if (i < j):\n",
    "        print(\"i < j 此時 i = {} , j = {}\".format(i, j))\n",
    "        return int_equal(i + 1, j)\n",
    "    elif (i > j):\n",
    "        print(\"i > j 此時 i = {} , j = {}\".format(i, j))\n",
    "        return int_equal(i-1, j)\n",
    "    else:\n",
    "        print(\"i = j 此時 i = {} , j = {},所以跳出函式\".format(i, j))\n",
    "int_equal(1, 1)\n",
    "\n",
    "練習:\n",
    "請利用遞迴函式(函式重複呼叫本身)的方法輸出一個9x9乘法表，其中不能使用任何迴圈。\n",
    "'''"
   ]
  },
  {
   "cell_type": "code",
   "execution_count": null,
   "metadata": {
    "collapsed": false
   },
   "outputs": [],
   "source": [
    "# Lab07\n",
    "'''\n",
    "#查看錯誤訊息\n",
    "\n",
    "print(abcdef)\n",
    "\n",
    "練習:\n",
    "    執行以下程式，查看錯誤訊息\n",
    "with open('dafidn', 'r') as file:\n",
    "    print(file)\n",
    "'''\n",
    "\n",
    "print(abcdef)\n"
   ]
  },
  {
   "cell_type": "code",
   "execution_count": null,
   "metadata": {
    "collapsed": false
   },
   "outputs": [],
   "source": [
    "# Lab08\n",
    "'''\n",
    "try:\n",
    "    print(abcdef)\n",
    "except NameError as e:\n",
    "    print('沒有命名這個變數')\n",
    "    print('錯誤訊息是:',e)\n",
    "else:\n",
    "    print('沒有錯誤')\n",
    "finally:\n",
    "    print('不管怎樣都會執行')\n",
    "    \n",
    "練習:\n",
    "    承上題\n",
    "    捕捉剛剛的程式錯誤\n",
    "    沒有錯誤 印出'沒有錯誤'\n",
    "    不管有無錯誤 皆印出'您好'\n",
    "\n",
    "'''"
   ]
  }
 ],
 "metadata": {
  "kernelspec": {
   "display_name": "Python 3",
   "language": "python",
   "name": "python3"
  },
  "language_info": {
   "codemirror_mode": {
    "name": "ipython",
    "version": 3
   },
   "file_extension": ".py",
   "mimetype": "text/x-python",
   "name": "python",
   "nbconvert_exporter": "python",
   "pygments_lexer": "ipython3",
   "version": "3.4.3"
  }
 },
 "nbformat": 4,
 "nbformat_minor": 0
}

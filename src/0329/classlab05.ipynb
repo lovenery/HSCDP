{
 "cells": [
  {
   "cell_type": "code",
   "execution_count": null,
   "metadata": {
    "collapsed": true,
    "deletable": true,
    "editable": true
   },
   "outputs": [],
   "source": [
    "# lab01\n",
    "'''\n",
    "name = input('請輸入你的名稱：')\n",
    "print('Hello ', name)\n",
    "\n",
    "練習:\n",
    "請用程式撰寫\n",
    "輸入 考試成績\n",
    "印出 \"分數為： XX 分\"。\n",
    "\n",
    "'''"
   ]
  },
  {
   "cell_type": "code",
   "execution_count": 14,
   "metadata": {
    "collapsed": false,
    "deletable": true,
    "editable": true
   },
   "outputs": [
    {
     "name": "stdout",
     "output_type": "stream",
     "text": [
      "\n"
     ]
    }
   ],
   "source": [
    "#lab02\n",
    "'''\n",
    "觀看底下標準輸出的差異性\n",
    "print(1,2,3) #預設sep=' '   #預設end='\\n'\n",
    "print(1,2,3 ,sep='')\n",
    "print(1,2,3 ,sep='-')\n",
    "print(1,2,3 ,sep='',end='')\n",
    "print(1,2,3 ,sep='',end='-')\n",
    "print(1, 2, 3, file = open('data.txt', 'w'))#寫入檔案近data.txt\n",
    "\n",
    "練習:\n",
    "for i in range(1,5):\n",
    "    _________________\n",
    "輸出 結果呈現  # print 裡需要使用到 sep 與 end\n",
    "1*2=\n",
    "2*3=\n",
    "3*4=\n",
    "4*5=\n",
    "'''"
   ]
  },
  {
   "cell_type": "code",
   "execution_count": 21,
   "metadata": {
    "collapsed": false,
    "deletable": true,
    "editable": true
   },
   "outputs": [
    {
     "name": "stdout",
     "output_type": "stream",
     "text": [
      "\n"
     ]
    }
   ],
   "source": [
    "# lab03\n",
    "'''\n",
    "loaction = 'Central Weather Bureau'\n",
    "print(\"I'm at {}\".format(loaction)) # 會塞進{}中\n",
    "print(loaction.split())\n",
    "print(\"{}\\n{}\\n{}\\n\".format(*loaction.split())) # 可以給list \n",
    "\n",
    "print('Coordinates: {}, {}'.format('25.03N', '121.52E')) # 依序放入 \n",
    "print('Coordinates: {latitude}, {longitude}'.format(latitude='25.03N', longitude='121.52E')) # 可以在{}內指定名稱\n",
    "\n",
    "coord = ['25.03N', '121.52E']\n",
    "print('Coordinates: {}, {}'.format(*coord)) # 會依序塞進{}中\n",
    "print('Coordinates: {1}, {0}'.format(*coord)) # 也可以指定是list中的第幾個\n",
    "\n",
    "coord = {'latitude': '25.03N', 'longitude': '121.52E'}\n",
    "print('Coordinates: {latitude}, {longitude}'.format(**coord)) # 可以dict 會根據key丟入對應的{}中\n",
    "\n",
    "\n",
    "練習:\n",
    "使用一個for迴圈 輸出1~10的1次方 2次方 3次方 \n",
    "結果如\n",
    "1 1 1\n",
    "2 4 8\n",
    "...\n",
    "\n",
    "'''"
   ]
  },
  {
   "cell_type": "code",
   "execution_count": 54,
   "metadata": {
    "collapsed": false,
    "deletable": true,
    "editable": true
   },
   "outputs": [
    {
     "name": "stdout",
     "output_type": "stream",
     "text": [
      "\n"
     ]
    }
   ],
   "source": [
    "# lab04\n",
    "'''\n",
    "[格子補什麼][對齊方式][幾格][類型]'.format(輸入的格式)\n",
    "\n",
    "對齊方式\n",
    "< 靠左對旗\n",
    "^ 置中\n",
    "> 靠右對旗\n",
    "\n",
    "類型\n",
    "%d 以10進位整數方式輸出\n",
    "%f 以10進位浮點數方式輸出\n",
    "%s 使用str()將字串輸出\n",
    "\n",
    "market = {'蘋果': 50, '火龍果': 30, '櫻桃':300}\n",
    "print('1.')\n",
    "for fruit, price in market.items():\n",
    "    print('{}賣{}元'.format(fruit, price))\n",
    "print('\\n')\n",
    "print('2.')    \n",
    "for fruit, price in market.items():\n",
    "    print('{}\\t賣{:3d}元'.format(fruit, price))\n",
    "print('\\n')\n",
    "print('3.')   \n",
    "for fruit, price in market.items():\n",
    "    print('{}\\t賣{:<3d}元'.format(fruit, price))\n",
    "print('\\n')\n",
    "print('4.')   \n",
    "for fruit, price in market.items():\n",
    "    print('{}\\t賣{:-<3d}元'.format(fruit, price))\n",
    "        \n",
    "\n",
    "練習:\n",
    "承上題\n",
    "將結果呈現為\n",
    " 1   1    1\n",
    " 2   4    8\n",
    " 3   9   27\n",
    " 4  16   64\n",
    " 5  25  125\n",
    " 6  36  216\n",
    " 7  49  343\n",
    " 8  64  512\n",
    " 9  81  729\n",
    "10 100 1000\n",
    "'''"
   ]
  },
  {
   "cell_type": "code",
   "execution_count": 70,
   "metadata": {
    "collapsed": false,
    "deletable": true,
    "editable": true
   },
   "outputs": [
    {
     "name": "stdout",
     "output_type": "stream",
     "text": [
      "\n"
     ]
    }
   ],
   "source": [
    "# lab05\n",
    "'''\n",
    "f= open('class05open.txt') #由於預設是mode='r'讀檔\n",
    "print(f.readline())  #readline() 一次讀取一行\n",
    "print(f.readline())\n",
    "f.close()              #執行完後記得要關檔按\n",
    "\n",
    "#但是檔案裡面明明只有2行為什麼會印出3行因為會連同結尾的換行符號\\n一起讀取\n",
    "#strip([chars])移除字符串頭尾指定字符，默認為空白，這樣就能移除換行字符\n",
    "\n",
    "with open('class05open.txt') as file:\n",
    "    print(file.readline())     #readline() 一次讀取一行\n",
    "    print(file.readline().strip())\n",
    "    file.seek(0)               #seek(第幾行)可以移動回去檔案讀取的行數\n",
    "    print(file.readline().strip()) \n",
    "    \n",
    "# 使用for迴圈把檔案一行一行讀取\n",
    "with open('class05open.txt') as file:\n",
    "    for line in file:\n",
    "        print(line.strip())\n",
    "\n",
    "練習:\n",
    "讀取class05.txt，並使用字串切割str.split()，\n",
    "將每一段句子依逗號切割並輸出。\n",
    "'''\n"
   ]
  },
  {
   "cell_type": "code",
   "execution_count": null,
   "metadata": {
    "collapsed": true,
    "deletable": true,
    "editable": true
   },
   "outputs": [],
   "source": [
    "# lab06\n",
    "'''\n",
    "# 寫入檔案\n",
    "# 將mode調整為 w or a\n",
    "lst =['測試第一行','測試第二行']  #測試檔案\n",
    "with open('class05write.txt','w') as f:  #如果該檔案不存在會建立新檔 'w'是寫入檔案\n",
    "    for line in lst:\n",
    "        f.write(line)\n",
    "        f.write('\\n')         #換行\n",
    "        \n",
    "with open('class05write.txt','w+') as f:  #w+可以讀取檔案\n",
    "    for line in lst:\n",
    "        f.write(line)\n",
    "        f.write('\\n')\n",
    "    f.seek(0)                             #回到0行\n",
    "    print(f.readline())                   #讀取一行\n",
    "\n",
    "# 由於寫檔每次都會重新撰寫如果想要保持原始檔案的話要用附加的方式如下\n",
    "lst =['測試第三行','測試第四行']        \n",
    "with open('class05write.txt','a') as f:\n",
    "    for line in lst:\n",
    "        f.write(line)\n",
    "        f.write('\\n')\n",
    "\n",
    "練習:\n",
    "創建一個dict，market\n",
    "market = {'蘋果': 50, '火龍果': 30, '櫻桃':300}\n",
    "將個水果賣的價錢輸出至prices.txt\n",
    "'''\n"
   ]
  },
  {
   "cell_type": "code",
   "execution_count": null,
   "metadata": {
    "collapsed": true,
    "deletable": true,
    "editable": true
   },
   "outputs": [],
   "source": [
    "# lab07\n",
    "'''\n",
    "word = '中'\n",
    "print(word.encode('UTF-8'))\n",
    "print(word.encode('Big5'))\n",
    "b = b'\\xa4\\xa4'\n",
    "print(type(b))\n",
    "print(b.decode('big5'))\n",
    "\n",
    "\n",
    "練習:\n",
    "word ='中央大學'，\n",
    "以encoding = 'big5' 寫入檔案中 開啟檔案觀察，\n",
    "在撰寫程式 以encoding='big5' 讀取檔案。\n",
    "'''\n"
   ]
  }
 ],
 "metadata": {
  "kernelspec": {
   "display_name": "Python 3",
   "language": "python",
   "name": "python3"
  },
  "language_info": {
   "codemirror_mode": {
    "name": "ipython",
    "version": 3
   },
   "file_extension": ".py",
   "mimetype": "text/x-python",
   "name": "python",
   "nbconvert_exporter": "python",
   "pygments_lexer": "ipython3",
   "version": "3.4.3"
  }
 },
 "nbformat": 4,
 "nbformat_minor": 0
}

{
 "cells": [
  {
   "cell_type": "code",
   "execution_count": 2,
   "metadata": {
    "collapsed": false,
    "deletable": true,
    "editable": true
   },
   "outputs": [
    {
     "name": "stdout",
     "output_type": "stream",
     "text": [
      "384996\n"
     ]
    }
   ],
   "source": [
    "import sys, subprocess\n",
    "filename = 'data1.txt'\n",
    "ps = [subprocess.Popen(['python', 'one_process.py', filename], \n",
    "    stdout=subprocess.PIPE)]\n",
    "\n",
    "count = 0\n",
    "for p in ps:\n",
    "    count += int(p.stdout.read())\n",
    "\n",
    "print(count)"
   ]
  },
  {
   "cell_type": "code",
   "execution_count": 7,
   "metadata": {
    "collapsed": true,
    "deletable": true,
    "editable": true
   },
   "outputs": [],
   "source": [
    "#one_process.py\n",
    "\n",
    "\n",
    "#import sys\n",
    "#def foo(filename):\n",
    "#    with open(filename) as f:\n",
    "#        text = f.read()\n",
    "#    ct = 0\n",
    "#    for ch in text:\n",
    "#        n = ord(ch.upper()) + 1\n",
    "#        if n == 67:\n",
    "#            ct += 1\n",
    "#    return ct\n",
    "#count = 0\n",
    "#for filename in sys.argv[1:]:\n",
    "#    count += foo(filename)\n",
    "#print(count)"
   ]
  },
  {
   "cell_type": "code",
   "execution_count": null,
   "metadata": {
    "collapsed": true,
    "deletable": true,
    "editable": true
   },
   "outputs": [],
   "source": []
  }
 ],
 "metadata": {
  "kernelspec": {
   "display_name": "Python 3",
   "language": "python",
   "name": "python3"
  },
  "language_info": {
   "codemirror_mode": {
    "name": "ipython",
    "version": 3
   },
   "file_extension": ".py",
   "mimetype": "text/x-python",
   "name": "python",
   "nbconvert_exporter": "python",
   "pygments_lexer": "ipython3",
   "version": "3.4.3"
  }
 },
 "nbformat": 4,
 "nbformat_minor": 2
}

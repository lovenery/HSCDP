{
 "cells": [
  {
   "cell_type": "code",
   "execution_count": 23,
   "metadata": {
    "collapsed": false,
    "deletable": true,
    "editable": true,
    "scrolled": true
   },
   "outputs": [
    {
     "name": "stdout",
     "output_type": "stream",
     "text": [
      "Using single thread, execution time = 0.86265\n",
      "Using two threads, execution time = 0.52213\n",
      "Using four threads, execution time = 0.33598\n"
     ]
    }
   ],
   "source": [
    "import threading\n",
    "from queue import Queue\n",
    "import requests\n",
    "import bs4\n",
    "import time\n",
    "\n",
    "print_lock = threading.Lock()\n",
    "\n",
    "def get_url(current_url):\n",
    "\n",
    "   # with print_lock:\n",
    "    #    print(\"\\nStarting thread {}\".format(threading.current_thread().name))\n",
    "    res = requests.get(current_url)\n",
    "    res.raise_for_status()\n",
    "\n",
    "    current_page = bs4.BeautifulSoup(res.text,\"html.parser\")\n",
    "    current_title = current_page.select('title')[0].getText()\n",
    "\n",
    "    #with print_lock:\n",
    "        #print(\"{}\\n\".format(threading.current_thread().name))\n",
    "        #print(\"{}\\n\".format(current_url))\n",
    "        #print(\"{}\\n\".format(current_title))\n",
    "        #print(\"\\nFinished fetching : {}\".format(current_url))\n",
    "\n",
    "def process_queue():\n",
    "    while True:\n",
    "        current_url = url_queue.get()\n",
    "        get_url(current_url)\n",
    "        url_queue.task_done()\n",
    "\n",
    "url_queue = Queue()\n",
    "\n",
    "url_list = [\"https://www.google.com\"]*5\n",
    "\n",
    "start = time.time()\n",
    "threadList = []\n",
    "for i in range(1):\n",
    "    t = threading.Thread(target=process_queue)\n",
    "    #deamon = true 這個動作將會使得子執行緒隨著主執行緒的退出而退出\n",
    "    #t.daemon = True\n",
    "    t.start()\n",
    "    threadList.append(t)\n",
    "    \n",
    "for current_url in url_list:\n",
    "    url_queue.put(current_url)\n",
    "\n",
    "url_queue.join()\n",
    "\n",
    "#print(threading.enumerate())\n",
    "\n",
    "print(\"Using single thread, execution time = {0:.5f}\".format(time.time() - start))\n",
    "\n",
    "start = time.time()\n",
    "threadList = []\n",
    "for i in range(2):\n",
    "    t = threading.Thread(target=process_queue)\n",
    "    #t.daemon = True\n",
    "    t.start()\n",
    "    threadList.append(t)\n",
    "    \n",
    "for current_url in url_list:\n",
    "    url_queue.put(current_url)\n",
    "\n",
    "url_queue.join()\n",
    "\n",
    "#print(threading.enumerate())\n",
    "\n",
    "print(\"Using two threads, execution time = {0:.5f}\".format(time.time() - start))\n",
    " \n",
    "start = time.time()\n",
    "threadList = []\n",
    "for i in range(4):\n",
    "    t = threading.Thread(target=process_queue)\n",
    "    #t.daemon = True\n",
    "    t.start()\n",
    "    threadList.append(t)\n",
    "    \n",
    "for current_url in url_list:\n",
    "    url_queue.put(current_url)\n",
    "\n",
    "url_queue.join()\n",
    "\n",
    "#print(threading.enumerate())\n",
    "\n",
    "print(\"Using four threads, execution time = {0:.5f}\".format(time.time() - start))"
   ]
  },
  {
   "cell_type": "code",
   "execution_count": null,
   "metadata": {
    "collapsed": true,
    "deletable": true,
    "editable": true
   },
   "outputs": [],
   "source": []
  }
 ],
 "metadata": {
  "kernelspec": {
   "display_name": "Python 3",
   "language": "python",
   "name": "python3"
  },
  "language_info": {
   "codemirror_mode": {
    "name": "ipython",
    "version": 3
   },
   "file_extension": ".py",
   "mimetype": "text/x-python",
   "name": "python",
   "nbconvert_exporter": "python",
   "pygments_lexer": "ipython3",
   "version": "3.4.3"
  }
 },
 "nbformat": 4,
 "nbformat_minor": 2
}

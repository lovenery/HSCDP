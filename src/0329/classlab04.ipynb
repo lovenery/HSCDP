{
 "cells": [
  {
   "cell_type": "code",
   "execution_count": 1,
   "metadata": {
    "collapsed": false,
    "deletable": true,
    "editable": true
   },
   "outputs": [
    {
     "name": "stdout",
     "output_type": "stream",
     "text": [
      "a =  1\n"
     ]
    }
   ],
   "source": [
    "'''\n",
    "import random        #匯入內python random\n",
    "a=random.randint(1, 10) #隨機產生變數1~10\n",
    "print(a)            #顯示該變數\n",
    "if a>4:             #如果符合條件會執行\n",
    "    print('條件符合')\n",
    "    \n",
    "\n",
    "'''\n",
    "import random\n",
    "a=random.randint(1, 10)\n",
    "print('a = ',a)\n",
    "if a>4:\n",
    "    print('條件符合')"
   ]
  },
  {
   "cell_type": "code",
   "execution_count": 2,
   "metadata": {
    "collapsed": false,
    "deletable": true,
    "editable": true
   },
   "outputs": [
    {
     "data": {
      "text/plain": [
       "'\\n練習:\\n請用程式撰寫\\n產生一個-5到5的隨機亂數，印出該亂數\\n如果祴數大於0，則列印出\"此數為正數\"。\\n'"
      ]
     },
     "execution_count": 2,
     "metadata": {},
     "output_type": "execute_result"
    }
   ],
   "source": [
    "#lab01\n",
    "'''\n",
    "練習:\n",
    "請用程式撰寫\n",
    "產生一個-5到5的隨機亂數，印出該亂數\n",
    "如果祴數大於0，則列印出\"此數為正數\"。\n",
    "'''"
   ]
  },
  {
   "cell_type": "code",
   "execution_count": 2,
   "metadata": {
    "collapsed": false,
    "deletable": true,
    "editable": true
   },
   "outputs": [
    {
     "name": "stdout",
     "output_type": "stream",
     "text": [
      "score =  70\n",
      "及格拉\n"
     ]
    }
   ],
   "source": [
    "'''\n",
    "import random        #匯入內python random\n",
    "score=random.randint(1, 10) *10 #隨機產生變數10~100\n",
    "print(score)   \n",
    "if score>=60:\n",
    "    print(\"及格拉\")\n",
    "else:\n",
    "    print(\"不及格\")\n",
    "'''\n",
    "import random \n",
    "score=random.randint(1, 10) *10\n",
    "print('score = ',score)   \n",
    "if score>=60:\n",
    "    print(\"及格拉\")\n",
    "else:\n",
    "    print(\"不及格\")"
   ]
  },
  {
   "cell_type": "code",
   "execution_count": null,
   "metadata": {
    "collapsed": true,
    "deletable": true,
    "editable": true
   },
   "outputs": [],
   "source": [
    "#lab02\n",
    "'''\n",
    "練習:\n",
    "請用程式產生隨機亂數1~10\n",
    "如果祴結果是偶數則印出\"此數為偶數\"，否則印出\"此數為奇數\"\n",
    "'''"
   ]
  },
  {
   "cell_type": "code",
   "execution_count": 3,
   "metadata": {
    "collapsed": false,
    "deletable": true,
    "editable": true
   },
   "outputs": [
    {
     "name": "stdout",
     "output_type": "stream",
     "text": [
      "score =  13\n",
      "死當拉\n"
     ]
    }
   ],
   "source": [
    "'''\n",
    "import random        #匯入內python random\n",
    "score=random.randint(1, 10) *13 #隨機產生變數10~130\n",
    "print(score)   \n",
    "if 60 <= score <=100:\n",
    "    print(\"過拉\")\n",
    "elif 50 <= score <= 59:\n",
    "    print(\"好險，還能補考\")\n",
    "elif 0 <= score <= 49:\n",
    "    print(\"死當拉\")\n",
    "else:\n",
    "    print(\"分數有誤\")\n",
    "   \n",
    "'''\n",
    "import random\n",
    "score=random.randint(1, 10) *13\n",
    "print('score = ',score)   \n",
    "if 60 <= score <=100:\n",
    "    print(\"過拉\")\n",
    "elif 50 <= score <= 59:\n",
    "    print(\"好險，還能補考\")\n",
    "elif 0 <= score <= 49:\n",
    "    print(\"死當拉\")\n",
    "else:\n",
    "    print(\"分數有誤\")"
   ]
  },
  {
   "cell_type": "code",
   "execution_count": null,
   "metadata": {
    "collapsed": true,
    "deletable": true,
    "editable": true
   },
   "outputs": [],
   "source": [
    "#Lab03\n",
    "'''\n",
    "練習:\n",
    "請用程式產生隨機亂數-3到3的數\n",
    "如果該亂數大於0，則印出'此數為正數'，否則如果亂數小於0，則印出'此數為負數'，否則印出'此數為0'\n",
    "'''"
   ]
  },
  {
   "cell_type": "code",
   "execution_count": 10,
   "metadata": {
    "collapsed": false,
    "deletable": true,
    "editable": true
   },
   "outputs": [
    {
     "name": "stdout",
     "output_type": "stream",
     "text": [
      "1.\n",
      "1 2 3 4 5 6 7 8 9 10 \n",
      "10 9 8 7 6 5 4 3 2 1 \n",
      "\n",
      "2.\n",
      "sum =  55\n",
      "\n",
      "3-1.\n",
      "p y t h o n 很 好 玩 \n",
      "\n",
      "3-2.\n",
      "a\n",
      "b\n",
      "c\n",
      "d\n",
      "\n"
     ]
    }
   ],
   "source": [
    "'''\n",
    "#列印出1~10跟10~1\n",
    "for i in range(1,11): #會產生1~10\n",
    "    print(i,end=' ')\n",
    "print()\n",
    "\n",
    "for i in reversed(range(1,11)): #會產生1~10 只不過順序反過來 10 9 8 ... 1\n",
    "    print(i,end=' ')\n",
    "\n",
    "#印出1+2+3+4+...10的總和\n",
    "Sum=0\n",
    "for i in range(1,11): \n",
    "    Sum+=i\n",
    "print(Sum)\n",
    "\n",
    "#可以取出字串 list資料 dict資料\n",
    "strs=\"python很好玩\"\n",
    "for i in strs:   #第一個位子開始:strs[0] strs[1]....strs[n]\n",
    "    print(i,end=\" \")\n",
    "lists=['a','b','c','d']\n",
    "for i in lists:\n",
    "    print(i)\n",
    "'''\n",
    "print('1.')\n",
    "for i in range(1,11):\n",
    "    print(i,end=' ')\n",
    "print()\n",
    "\n",
    "for i in reversed(range(1,11)):\n",
    "    print(i,end=' ')\n",
    "print('\\n')\n",
    "print('2.')\n",
    "#印出1+2+3+4+...10的總和\n",
    "Sum=0\n",
    "for i in range(1,11):\n",
    "    Sum+=i\n",
    "print('sum = ',Sum)\n",
    "print()\n",
    "\n",
    "print('3-1.')\n",
    "#也可以取出字串 list資料 dict資料\n",
    "strs=\"python很好玩\"\n",
    "for i in strs:\n",
    "    print(i,end=\" \")\n",
    "print('\\n')\n",
    "print('3-2.')\n",
    "lists=['a','b','c','d']\n",
    "for i in lists:\n",
    "    print(i)\n",
    "print()\n",
    "\n",
    "\n"
   ]
  },
  {
   "cell_type": "code",
   "execution_count": 3,
   "metadata": {
    "collapsed": false,
    "deletable": true,
    "editable": true
   },
   "outputs": [
    {
     "name": "stdout",
     "output_type": "stream",
     "text": [
      "1.\n",
      "typhoon earthquake weather \n",
      "\n",
      "\n",
      "2.\n",
      "颱風 地震 天氣 \n",
      "\n",
      "\n",
      "3.\n",
      "typhoon中文是颱風\n",
      "earthquake中文是地震\n",
      "weather中文是天氣\n"
     ]
    }
   ],
   "source": [
    "'''\n",
    "vocabularies = {'weather' : '天氣', 'earthquake': '地震',  'typhoon': '颱風'}\n",
    "# 列出所有英文 (key)\n",
    "for vocabulary in vocabularies.keys():\n",
    "    print(vocabulary, end=' ')\n",
    "print('\\n\\n')\n",
    "\n",
    "# 列出所有中文 (value)\n",
    "for vocabulary in vocabularies.values():\n",
    "    print(vocabulary, end=' ')\n",
    "print('\\n\\n')\n",
    "\n",
    "# 列出英中對照 (items)\n",
    "for eng, chin in vocabularies.items():\n",
    "    # print(eng, '中文是',chin,sep='')\n",
    "    # print('%s中文是%s' % (eng, chin))\n",
    "    print('{}中文是{}'.format(eng, chin))\n",
    "'''\n",
    "print('1.')\n",
    "vocabularies = {'weather' : '天氣', 'earthquake': '地震',  'typhoon': '颱風'}\n",
    "# 列出所有英文 (key)\n",
    "for vocabulary in vocabularies.keys():\n",
    "    print(vocabulary, end=' ')\n",
    "print('\\n\\n')\n",
    "print('2.')\n",
    "# 列出所有中文 (value)\n",
    "for vocabulary in vocabularies.values():\n",
    "    print(vocabulary, end=' ')\n",
    "print('\\n\\n')\n",
    "print('3.')\n",
    "# 列出英中對照 (items)\n",
    "for eng, chin in vocabularies.items():\n",
    "    #print(eng, '中文是',chin,sep='')\n",
    "    #print('%s中文是%s' % (eng, chin))\n",
    "    print('{}中文是{}'.format(eng, chin))"
   ]
  },
  {
   "cell_type": "code",
   "execution_count": null,
   "metadata": {
    "collapsed": true,
    "deletable": true,
    "editable": true
   },
   "outputs": [],
   "source": [
    "\n",
    "'''\n",
    "練習:\n",
    "1.使用for敘述\n",
    "1-1.印出1+2+3+....+20的總和\n",
    "1-2.印出1+3+5+7+...+19的總和\n",
    "1-3.印出2+4+6+8+...+20的總和\n",
    "提示:使用%\n",
    "2.請將字串\"for迴圈很好玩的\"一列印出一個字元，利用for迴圈來完成\n",
    "3.請將字典{'天氣' : 'weather', '地震': 'earthquake', '颱風' :  'typhoon'}\n",
    "  列出所有中文單字、英文單字、中英對照\n",
    "\n",
    "'''"
   ]
  },
  {
   "cell_type": "code",
   "execution_count": 12,
   "metadata": {
    "collapsed": false,
    "deletable": true,
    "editable": true
   },
   "outputs": [
    {
     "name": "stdout",
     "output_type": "stream",
     "text": [
      "sum =  45\n"
     ]
    }
   ],
   "source": [
    "#lab04\n",
    "'''\n",
    "while迴圈範例\n",
    "x = 1\n",
    "Sum = 0\n",
    "while x <= 9:\n",
    "    Sum +=x\n",
    "    x+=1\n",
    "print(Sum)\n",
    "使用while迴圈記得要注意條件的修正不然很容易產生無限迴圈\n",
    "例如上範例如果忘記寫\n",
    "x+=1或是x=x+1的話 x會一直等於1導致迴圈無限執行\n",
    "\n",
    "\n",
    "'''\n",
    "x = 1\n",
    "Sum = 0\n",
    "while x <= 9:\n",
    "    Sum +=x\n",
    "    x+=1\n",
    "print('sum = ',Sum)"
   ]
  },
  {
   "cell_type": "code",
   "execution_count": 2,
   "metadata": {
    "collapsed": false,
    "deletable": true,
    "editable": true
   },
   "outputs": [
    {
     "data": {
      "text/plain": [
       "'\\n練習:\\n1.使用while敘述\\n1-1.印出1+2+3+....+20的總和\\n1-2.印出1+3+5+7+...+19的總和\\n1-3.印出2+4+6+8+...+20的總和\\n提示:使用%\\n2.底下程式會造成無限迴圈請修正\\nx = 0\\nsum = 0\\nwhile x <= 10:\\n    sum +=x\\n    print(sum)\\n'"
      ]
     },
     "execution_count": 2,
     "metadata": {},
     "output_type": "execute_result"
    }
   ],
   "source": [
    "#Lab05\n",
    "'''\n",
    "練習:\n",
    "1.使用while敘述\n",
    "1-1.印出1+2+3+....+20的總和\n",
    "1-2.印出1+3+5+7+...+19的總和\n",
    "1-3.印出2+4+6+8+...+20的總和\n",
    "提示:使用%\n",
    "2.底下程式會造成無限迴圈請修正\n",
    "x = 0\n",
    "sum = 0\n",
    "while x <= 10:\n",
    "    sum +=x\n",
    "    print(sum)\n",
    "'''"
   ]
  },
  {
   "cell_type": "code",
   "execution_count": 13,
   "metadata": {
    "collapsed": false,
    "deletable": true,
    "editable": true
   },
   "outputs": [
    {
     "name": "stdout",
     "output_type": "stream",
     "text": [
      "1\n",
      "2\n",
      "3\n",
      "4\n",
      "5\n",
      "*********\n",
      "1\n",
      "2\n",
      "3\n",
      "4\n"
     ]
    }
   ],
   "source": [
    "#Lab06\n",
    "'''\n",
    "for迴圈使用break的範例\n",
    "for i in range(1,11):\n",
    "    print(i)\n",
    "    if i == 5: #i等於5的時候近來判斷\n",
    "        break  #跳出迴圈\n",
    "while迴圈使用break的範例\n",
    "x = 1\n",
    "while x <= 9:\n",
    "    print(x)\n",
    "    x+=1\n",
    "    if x == 5 :\n",
    "        break\n",
    "\n",
    "\n",
    "'''\n",
    "for i in range(1,11):\n",
    "    print(i)\n",
    "    if i == 5: #i等於5的時候近來判斷\n",
    "        break  #跳出迴圈\n",
    "\n",
    "print('*********')\n",
    "\n",
    "x = 1\n",
    "while x <= 9:\n",
    "    print(x)\n",
    "    x+=1\n",
    "    if x == 5 :\n",
    "        break     "
   ]
  },
  {
   "cell_type": "code",
   "execution_count": null,
   "metadata": {
    "collapsed": true,
    "deletable": true,
    "editable": true
   },
   "outputs": [],
   "source": [
    "'''\n",
    "練習:\n",
    "1.創造一個list裡面內容是Sup=['索娜','珍娜','塔里克','雷歐娜']\n",
    "\n",
    "2.用for迴圈的方式開始執行當跑到塔里克的時候跳出迴圈\n",
    "提示:list跟str一樣可以用for s in Sup的方式取出Sup[0~n]的內容\n",
    "\n",
    "3.用while迴圈的方式開始執行當跑到塔里克的時候跳出迴圈\n",
    "提示:可以創建一個變數代表Sup[n]的內容\n",
    "\n",
    "'''"
   ]
  },
  {
   "cell_type": "code",
   "execution_count": 14,
   "metadata": {
    "collapsed": false,
    "deletable": true,
    "editable": true
   },
   "outputs": [
    {
     "name": "stdout",
     "output_type": "stream",
     "text": [
      "1\n",
      "2\n",
      "3\n",
      "4\n",
      "6\n",
      "7\n",
      "8\n",
      "9\n",
      "10\n",
      "*********\n",
      "1\n",
      "2\n",
      "3\n",
      "4\n",
      "6\n",
      "7\n",
      "8\n",
      "9\n"
     ]
    }
   ],
   "source": [
    "'''\n",
    "for迴圈使用continue的範例\n",
    "for i in range(1,11):\n",
    "    if i == 5: #i等於5的時候近來判斷\n",
    "        continue  #跳出此次迴圈\n",
    "    print(i)\n",
    "while迴圈使用continue的範例\n",
    "x = 1\n",
    "while x <= 9:\n",
    "    if x == 5 :\n",
    "        x+=1   #這邊記得要寫x+=1或是x=x+1不然會造成無限迴圈\n",
    "        continue         \n",
    "    print(x) \n",
    "    x+=1\n",
    "\n",
    "\n",
    "'''\n",
    "for i in range(1,11):\n",
    "    if i == 5: #i等於5的時候近來判斷\n",
    "        continue  #跳出此次迴圈\n",
    "    print(i)\n",
    "\n",
    "print('*********')\n",
    "\n",
    "x = 1\n",
    "while x <= 9:\n",
    "    if x == 5 :\n",
    "        x+=1   #這邊記得要寫x+=1或是x=x+1不然會造成無限迴圈\n",
    "        continue         \n",
    "    print(x) \n",
    "    x+=1      "
   ]
  },
  {
   "cell_type": "code",
   "execution_count": null,
   "metadata": {
    "collapsed": true,
    "deletable": true,
    "editable": true
   },
   "outputs": [],
   "source": [
    "#Lab07\n",
    "'''\n",
    "練習:\n",
    "1.創造一個intlist裡面內容是亂數1~100的整數10筆並且把它print出來\n",
    "import random\n",
    "intlist=[random.randint(1, 100) for a in range(10)]\n",
    "\n",
    "2.請用for迴圈把intlist裡面每筆資料不及格(小於60)的就跳離迴圈，至於大於60的則把它print出來\n",
    "\n",
    "3.請用while迴圈把intlist裡面每筆資料不及格(小於60)的就跳離迴圈，至於大於60的則把它print出來\n",
    "\n",
    "'''"
   ]
  },
  {
   "cell_type": "code",
   "execution_count": 15,
   "metadata": {
    "collapsed": false,
    "deletable": true,
    "editable": true
   },
   "outputs": [
    {
     "name": "stdout",
     "output_type": "stream",
     "text": [
      "1*1=1\t 1*2=2\t 1*3=3\t 1*4=4\t 1*5=5\t 1*6=6\t 1*7=7\t 1*8=8\t 1*9=9\t \n",
      "2*1=2\t 2*2=4\t 2*3=6\t 2*4=8\t 2*5=10\t 2*6=12\t 2*7=14\t 2*8=16\t 2*9=18\t \n",
      "3*1=3\t 3*2=6\t 3*3=9\t 3*4=12\t 3*5=15\t 3*6=18\t 3*7=21\t 3*8=24\t 3*9=27\t \n",
      "4*1=4\t 4*2=8\t 4*3=12\t 4*4=16\t 4*5=20\t 4*6=24\t 4*7=28\t 4*8=32\t 4*9=36\t \n",
      "5*1=5\t 5*2=10\t 5*3=15\t 5*4=20\t 5*5=25\t 5*6=30\t 5*7=35\t 5*8=40\t 5*9=45\t \n",
      "6*1=6\t 6*2=12\t 6*3=18\t 6*4=24\t 6*5=30\t 6*6=36\t 6*7=42\t 6*8=48\t 6*9=54\t \n",
      "7*1=7\t 7*2=14\t 7*3=21\t 7*4=28\t 7*5=35\t 7*6=42\t 7*7=49\t 7*8=56\t 7*9=63\t \n",
      "8*1=8\t 8*2=16\t 8*3=24\t 8*4=32\t 8*5=40\t 8*6=48\t 8*7=56\t 8*8=64\t 8*9=72\t \n",
      "9*1=9\t 9*2=18\t 9*3=27\t 9*4=36\t 9*5=45\t 9*6=54\t 9*7=63\t 9*8=72\t 9*9=81\t \n"
     ]
    }
   ],
   "source": [
    "#Lab08\n",
    "'''\n",
    "我們使用雙層迴圈\n",
    "例如舉個範例\n",
    "我們要寫一個99乘法表\n",
    "for x in range(1,10):  #1-9\n",
    "    for y in range(1,10): #1-9\n",
    "        print(str(x) +\"*\" +str(y)+\"=\"+str(x*y)+'\\t',end='') \n",
    "        #由於字串不能跟整數相加所以整數必須強制轉型成字串然後用跳脫字元\\t 把每個輸出結果隔開\n",
    "        print('{x}*{y}={xy}\\t'.format(x=x, y=y, xy=x*y), end=' ')\n",
    "    print()  #每次內圈跑完後換行\n",
    "\n",
    "'''\n",
    "for x in range(1,10):  #1-9\n",
    "    for y in range(1,10): #1-9\n",
    "        # print(str(x) +\"*\" +str(y)+\"=\"+str(x*y)+'\\t',end='')   \n",
    "        print('{x}*{y}={xy}\\t'.format(x=x, y=y, xy=x*y), end=' ')   \n",
    "    print()"
   ]
  },
  {
   "cell_type": "code",
   "execution_count": null,
   "metadata": {
    "collapsed": true,
    "deletable": true,
    "editable": true
   },
   "outputs": [],
   "source": [
    "#練習\n",
    "'''\n",
    "我們現在是1*1 1*2 1*3 ..... 1*9\n",
    "如果要改成1*1 2*1 3*1 ..... 9*1 要如何改寫呢?\n",
    "'''"
   ]
  },
  {
   "cell_type": "code",
   "execution_count": null,
   "metadata": {
    "collapsed": true,
    "deletable": true,
    "editable": true
   },
   "outputs": [],
   "source": []
  }
 ],
 "metadata": {
  "kernelspec": {
   "display_name": "Python 3",
   "language": "python",
   "name": "python3"
  },
  "language_info": {
   "codemirror_mode": {
    "name": "ipython",
    "version": 3
   },
   "file_extension": ".py",
   "mimetype": "text/x-python",
   "name": "python",
   "nbconvert_exporter": "python",
   "pygments_lexer": "ipython3",
   "version": "3.4.3"
  }
 },
 "nbformat": 4,
 "nbformat_minor": 0
}

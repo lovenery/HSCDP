{
 "cells": [
  {
   "cell_type": "code",
   "execution_count": 8,
   "metadata": {
    "collapsed": false
   },
   "outputs": [
    {
     "name": "stdout",
     "output_type": "stream",
     "text": [
      "test  +  2 =  102\n",
      "test  - 10 =  90\n",
      "test  *  2 =  200\n",
      "test  / 30 =  3.3333333333333335\n",
      "test  // 30 =  3\n",
      "test  % 30 =  10\n"
     ]
    }
   ],
   "source": [
    "#Lab01\n",
    "'''\n",
    "使用算術運算子的差別\n",
    "\n",
    "test=100\n",
    "a = test  *  2    a=========>200\n",
    "a = test  +  2    a=========>102\n",
    "a = test  - 10    a=========>90\n",
    "a = test  / 30    a=========>3.33333...\n",
    "a = test // 30    a=========>3\n",
    "a = test  % 30    a=========>10\n",
    "\n",
    "'''\n",
    "test=100\n",
    "print ('test  +  2 = ',test  +  2)\n",
    "print ('test  - 10 = ',test  - 10)\n",
    "print ('test  *  2 = ',test  *  2)\n",
    "print ('test  / 30 = ',test  / 30)\n",
    "print ('test  // 30 = ',test // 30)\n",
    "print ('test  % 30 = ',test  % 30)"
   ]
  },
  {
   "cell_type": "code",
   "execution_count": 9,
   "metadata": {
    "collapsed": false
   },
   "outputs": [
    {
     "data": {
      "text/plain": [
       "\"\\n1.請算出1+3+5+7+9的總和\\n\\n2.溢位當超出最大範圍就會產生，請觀察下列算式產生的結果\\n溢位:運算的結果超出該型態的最大值，因此發生溢位程式無法產生正確結果。\\na=1.7976931348623157e+308\\nb=1.79157e+308\\nprint(a+b)\\n\\n3.請把字串a='python ' b='is good' 做相加並且觀察其結果\\n\\n\""
      ]
     },
     "execution_count": 9,
     "metadata": {},
     "output_type": "execute_result"
    }
   ],
   "source": [
    "#Lab02\n",
    "'''\n",
    "1.請算出1+3+5+7+9的總和\n",
    "\n",
    "2.溢位當超出最大範圍就會產生，請觀察下列算式產生的結果\n",
    "溢位:運算的結果超出該型態的最大值，因此發生溢位程式無法產生正確結果。\n",
    "a=1.7976931348623157e+308\n",
    "b=1.79157e+308\n",
    "print(a+b)\n",
    "\n",
    "3.請把字串a='python ' b='is good' 做相加並且觀察其結果\n",
    "\n",
    "'''\n"
   ]
  },
  {
   "cell_type": "code",
   "execution_count": 10,
   "metadata": {
    "collapsed": false
   },
   "outputs": [
    {
     "data": {
      "text/plain": [
       "'\\n1.請測試10/3跟10//3的差別\\n\\n2.請定義1個整數及1個浮點數變數，其值為30.0跟7，請算出他們的和(+)、差(-)，積(*)，商(//)，餘數(%)\\n\\n3.請用程式算出90個雞蛋是幾打又幾個\\n\\n4.請將華氏90度轉換攝氏溫度\\n提示1:華氏溫度212度是攝氏溫度100度\\n提示2:華氏溫度減32，然後乘以5,在除以9即為攝氏溫度\\n\\n'"
      ]
     },
     "execution_count": 10,
     "metadata": {},
     "output_type": "execute_result"
    }
   ],
   "source": [
    "#Lab03\n",
    "'''\n",
    "1.請測試10/3跟10//3的差別\n",
    "\n",
    "2.請定義1個整數及1個浮點數變數，其值為30.0跟7，請算出他們的和(+)、差(-)，積(*)，商(//)，餘數(%)\n",
    "\n",
    "3.請用程式算出90個雞蛋是幾打又幾個\n",
    "\n",
    "4.請將華氏90度轉換攝氏溫度\n",
    "提示1:華氏溫度212度是攝氏溫度100度\n",
    "提示2:華氏溫度減32，然後乘以5,在除以9即為攝氏溫度\n",
    "\n",
    "'''"
   ]
  },
  {
   "cell_type": "code",
   "execution_count": 11,
   "metadata": {
    "collapsed": false
   },
   "outputs": [
    {
     "name": "stdout",
     "output_type": "stream",
     "text": [
      "type of (a+0.1) :  <class 'float'>\n",
      "\n",
      "a=int(33.333) => a =  33\n",
      "type of int(33.333) :  <class 'int'>\n",
      "\n",
      "a=float(33) => a =  33.0\n",
      "type of float(33) :  <class 'float'>\n",
      "\n",
      "a=complex(33.61) => a =  (33.61+0j)\n",
      "type of complex(33.61) :  <class 'complex'>\n",
      "\n",
      "a=str(33.61) => a =  33.61\n",
      "type of str(33.61) :  <class 'str'>\n"
     ]
    }
   ],
   "source": [
    "#Lab04\n",
    "'''\n",
    "自動轉型\n",
    "a=1\n",
    "type(a+0.1)      #整數跟浮點數相加自動轉型成浮點數型態\n",
    "強制轉型\n",
    "a=int(33.333)     #強制轉型成整數型態    \n",
    "type(a)\n",
    "a=float(33)       #強制轉型成浮點數型態\n",
    "type(a)\n",
    "a=complex(33.61)  #強制轉型成複數型態\n",
    "type(a)\n",
    "a=str(33.61)     #強制轉型成字串型態\n",
    "type(a)\n",
    "'''\n",
    "a=1\n",
    "print ('type of (a+0.1) : ',type(a+0.1),end = '\\n\\n')      #整數跟浮點數相加自動轉型成浮點數型態\n",
    "\n",
    "a=int(33.333)     #強制轉型成整數型態    \n",
    "print ('a=int(33.333) => a = ', a)\n",
    "print ('type of int(33.333) : ',type(a),end = '\\n\\n')\n",
    "\n",
    "a=float(33)       #強制轉型成浮點數型態\n",
    "print ('a=float(33) => a = ', a)\n",
    "print ('type of float(33) : ',type(a),end = '\\n\\n')\n",
    "\n",
    "a=complex(33.61)  #強制轉型成複數型態\n",
    "print ('a=complex(33.61) => a = ', a)\n",
    "print ('type of complex(33.61) : ',type(a),end = '\\n\\n')\n",
    "\n",
    "a=str(33.61)     #強制轉型成字串型態\n",
    "print ('a=str(33.61) => a = ', a)\n",
    "print ('type of str(33.61) : ',type(a))"
   ]
  },
  {
   "cell_type": "code",
   "execution_count": 12,
   "metadata": {
    "collapsed": false
   },
   "outputs": [
    {
     "name": "stdout",
     "output_type": "stream",
     "text": [
      "salary > 38000 & height > 190 :  False\n",
      "salary > 38000 | height > 190 :  False\n",
      "score >=60 & score <=80 :  True\n"
     ]
    }
   ],
   "source": [
    "#Lab05\n",
    "'''\n",
    "salary = 35000 #薪水\n",
    "height = 160   #身高\n",
    "score  = 80    #成績\n",
    "\n",
    "條件:假設薪水大於38000，且身高大於190 要寫成\n",
    "salary > 38000 & height > 190\n",
    "\n",
    "條件:假設薪水大於38000，或身高大於190 要寫成\n",
    "salary > 38000 | height > 190\n",
    "\n",
    "條件:成績介於60到80分要寫成\n",
    "score >=60 & score <=80\n",
    "'''\n",
    "salary = 35000 #薪水\n",
    "height = 160  #身高\n",
    "score  = 80   #成績\n",
    "\n",
    "print('salary > 38000 & height > 190 : ',(salary > 38000) and (height > 190))\n",
    "print('salary > 38000 | height > 190 : ',salary > 38000 or height > 190)\n",
    "print('score >=60 & score <=80 : ',score >=60 and score <=80)"
   ]
  },
  {
   "cell_type": "code",
   "execution_count": 13,
   "metadata": {
    "collapsed": false
   },
   "outputs": [
    {
     "data": {
      "text/plain": [
       "'\\nage = 30    #年齡\\nnumber = 15 #學號\\nsum1 = 30   #總分\\n\\n1.條件:假設年齡小於40，且學號大於20號 用程式要如何撰寫\\n\\n2.條件:假設年齡大於25，或總分小於20 用程式要如何撰寫\\n\\n3.條件:學號介於10到30號 用程式要如何撰寫\\n'"
      ]
     },
     "execution_count": 13,
     "metadata": {},
     "output_type": "execute_result"
    }
   ],
   "source": [
    "#Lab06\n",
    "'''\n",
    "age = 30    #年齡\n",
    "number = 15 #學號\n",
    "sum1 = 30   #總分\n",
    "\n",
    "1.條件:假設年齡小於40，且學號大於20號 用程式要如何撰寫\n",
    "\n",
    "2.條件:假設年齡大於25，或總分小於20 用程式要如何撰寫\n",
    "\n",
    "3.條件:學號介於10到30號 用程式要如何撰寫\n",
    "'''"
   ]
  },
  {
   "cell_type": "code",
   "execution_count": 14,
   "metadata": {
    "collapsed": false
   },
   "outputs": [
    {
     "data": {
      "text/plain": [
       "'\\n請把下列程式轉換成+=,-=,/=,*=的寫法\\n1.sum1=10  x=10    sum1=sum1+x\\n\\n2.prod=30   y=20  prod=prod*y\\n\\n3.total=100 z=80  total=total-z\\n\\n4.div=500 v=20    div=div/v div=div//v\\n\\n\\n'"
      ]
     },
     "execution_count": 14,
     "metadata": {},
     "output_type": "execute_result"
    }
   ],
   "source": [
    "#Lab07\n",
    "'''\n",
    "請把下列程式轉換成+=,-=,/=,*=的寫法\n",
    "1.sum1=10  x=10    sum1=sum1+x\n",
    "\n",
    "2.prod=30   y=20  prod=prod*y\n",
    "\n",
    "3.total=100 z=80  total=total-z\n",
    "\n",
    "4.div=500 v=20    div=div/v div=div//v\n",
    "\n",
    "\n",
    "'''"
   ]
  },
  {
   "cell_type": "code",
   "execution_count": null,
   "metadata": {
    "collapsed": true
   },
   "outputs": [],
   "source": []
  },
  {
   "cell_type": "code",
   "execution_count": null,
   "metadata": {
    "collapsed": true
   },
   "outputs": [],
   "source": []
  }
 ],
 "metadata": {
  "kernelspec": {
   "display_name": "Python 3",
   "language": "python",
   "name": "python3"
  },
  "language_info": {
   "codemirror_mode": {
    "name": "ipython",
    "version": 3
   },
   "file_extension": ".py",
   "mimetype": "text/x-python",
   "name": "python",
   "nbconvert_exporter": "python",
   "pygments_lexer": "ipython3",
   "version": "3.4.3"
  }
 },
 "nbformat": 4,
 "nbformat_minor": 0
}

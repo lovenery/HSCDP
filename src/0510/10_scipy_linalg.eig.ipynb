{
 "cells": [
  {
   "cell_type": "markdown",
   "metadata": {
    "deletable": true,
    "editable": true
   },
   "source": [
    "EigenValue & EigenVector"
   ]
  },
  {
   "cell_type": "code",
   "execution_count": 5,
   "metadata": {
    "collapsed": false,
    "deletable": true,
    "editable": true
   },
   "outputs": [
    {
     "name": "stdout",
     "output_type": "stream",
     "text": [
      "[[1 5 2]\n",
      " [2 4 1]\n",
      " [3 6 2]]\n",
      "EigenValue\n",
      "(7.95791620491+0j) (-1.25766470568+0j) (0.299748500767+0j)\n",
      "------\n",
      "EigenVector\n",
      "[[-0.5297175  -0.90730751  0.28380519]\n",
      " [-0.44941741  0.28662547 -0.39012063]\n",
      " [-0.71932146  0.30763439  0.87593408]]\n",
      "-------\n",
      "[-0.5297175  -0.44941741 -0.71932146]\n",
      "-------\n",
      "[-0.5297175  -0.44941741 -0.71932146]\n",
      "[ -2.66453526e-15+0.j  -4.44089210e-16+0.j  -1.77635684e-15+0.j]\n",
      "3.233018248352212e-15\n"
     ]
    }
   ],
   "source": [
    "import numpy as np\n",
    "from scipy import linalg\n",
    "A = np.array([[1,5,2],[2,4,1],[3,6,2]])\n",
    "lna, v = linalg.eig(A)\n",
    "l1, l2, l3 = lna\n",
    "print(A)\n",
    "#EigenValue\n",
    "print('EigenValue')\n",
    "print(l1, l2, l3)\n",
    "print('------')\n",
    "#EigenVector\n",
    "print('EigenVector')\n",
    "print(v)\n",
    "print('-------')\n",
    "print(v[:,0])\n",
    "#print(v[:,1])\n",
    "#print(v[:,2])\n",
    "v1 = np.array(v[:,0]).T\n",
    "print('-------')\n",
    "print(v1)\n",
    "print(A.dot(v1)-l1*v1)\n",
    "print(linalg.norm(A.dot(v1)-l1*v1))"
   ]
  },
  {
   "cell_type": "code",
   "execution_count": null,
   "metadata": {
    "collapsed": true,
    "deletable": true,
    "editable": true
   },
   "outputs": [],
   "source": []
  }
 ],
 "metadata": {
  "kernelspec": {
   "display_name": "Python 3",
   "language": "python",
   "name": "python3"
  },
  "language_info": {
   "codemirror_mode": {
    "name": "ipython",
    "version": 3
   },
   "file_extension": ".py",
   "mimetype": "text/x-python",
   "name": "python",
   "nbconvert_exporter": "python",
   "pygments_lexer": "ipython3",
   "version": "3.4.3"
  }
 },
 "nbformat": 4,
 "nbformat_minor": 2
}

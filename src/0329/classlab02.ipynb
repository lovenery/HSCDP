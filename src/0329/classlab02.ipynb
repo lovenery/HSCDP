{
 "cells": [
  {
   "cell_type": "code",
   "execution_count": 1,
   "metadata": {
    "collapsed": false,
    "deletable": true,
    "editable": true
   },
   "outputs": [
    {
     "name": "stdout",
     "output_type": "stream",
     "text": [
      "a跟b參照物件是否相等 False a跟b的值是否一樣 False\n",
      "a的id是 1960884176 b的id是 6517680\n",
      "a跟b參照物件是否相等 True a跟b的值是否一樣 True\n",
      "a的id是 1960884176 b的id是 1960884176\n",
      "a跟b參照物件是否相等 True a跟b的值是否一樣 True\n",
      "a的id是 1960884176 b的id是 1960884176\n",
      "\n"
     ]
    }
   ],
   "source": [
    "#物件參照說明\n",
    "\n",
    "#is判斷2個物件的物件參照是否一樣\n",
    "#==判斷2個值是否一樣\n",
    "#id()可以顯示物件的id名稱\n",
    "\n",
    "a = 10\n",
    "b = 'python'\n",
    "c = a is b\n",
    "d = a == b\n",
    "print(\"a跟b參照物件是否相等\",c,\"a跟b的值是否一樣\",d)\n",
    "print(\"a的id是\",id(a),\"b的id是\",id(b))\n",
    "\n",
    "a = 10\n",
    "b = a\n",
    "c = a is b\n",
    "d = a == b\n",
    "print(\"a跟b參照物件是否相等\",c,\"a跟b的值是否一樣\",d)\n",
    "print(\"a的id是\",id(a),\"b的id是\",id(b))\n",
    "\n",
    "a = 10\n",
    "b = 10\n",
    "c = a is b\n",
    "d = a == b\n",
    "print(\"a跟b參照物件是否相等\",c,\"a跟b的值是否一樣\",d)\n",
    "print(\"a的id是\",id(a),\"b的id是\",id(b))\n",
    "\n",
    "print()"
   ]
  },
  {
   "cell_type": "code",
   "execution_count": 6,
   "metadata": {
    "collapsed": false,
    "deletable": true,
    "editable": true
   },
   "outputs": [
    {
     "data": {
      "text/plain": [
       "[7, 2, 3, 6]"
      ]
     },
     "execution_count": 6,
     "metadata": {},
     "output_type": "execute_result"
    }
   ],
   "source": [
    "#可變與不可變說明\n",
    "\n",
    "a=[1,2,3]\n",
    "a\n",
    "a[0]=7\n",
    "a\n",
    "a=a+[6]\n",
    "a\n",
    "\n"
   ]
  },
  {
   "cell_type": "code",
   "execution_count": 13,
   "metadata": {
    "collapsed": false,
    "deletable": true,
    "editable": true
   },
   "outputs": [
    {
     "name": "stdout",
     "output_type": "stream",
     "text": [
      "1.\n",
      "a的類型是 <class 'float'>\n",
      "b的類型是 <class 'int'>\n",
      "c的類型是 <class 'bool'>\n",
      "d的類型是 <class 'complex'>\n",
      "e的類型是 <class 'str'>\n",
      "\n",
      "2.\n",
      "100+True= 101\n",
      "100+False 100\n",
      "\n",
      "3.\n",
      "x的類型是 <class 'int'>\n",
      "y的類型是 <class 'float'>\n",
      "\n"
     ]
    }
   ],
   "source": [
    "#Lab01:\n",
    "'''\n",
    "1.判斷出下列變數的類型並顯示在銀幕上\n",
    "a=3.14\n",
    "b=102415\n",
    "c=True\n",
    "d=2014j+6\n",
    "e='test'\n",
    "\n",
    "2.請用程式個別算出100+True跟100+False的結果，並看一下其結果的差異性\n",
    "\n",
    "\n",
    "\n",
    "3.請用程式撰寫宣告一個整數與浮點數\n",
    "\n",
    "'''\n"
   ]
  },
  {
   "cell_type": "code",
   "execution_count": 25,
   "metadata": {
    "collapsed": false,
    "deletable": true,
    "editable": true
   },
   "outputs": [
    {
     "name": "stdout",
     "output_type": "stream",
     "text": [
      "1.\n",
      "on good\n",
      "\n",
      "2.\n",
      "y[7:9]的結果是 is\n"
     ]
    }
   ],
   "source": [
    "#Lab02:\n",
    "'''\n",
    "例:\n",
    "假設設定一個變數a\n",
    "a='12345'\n",
    "可以透過變數[]的方式取出內容\n",
    "例如a[0]取出的內容就是1\n",
    "也可以用a[1:3]這樣取出的內容就是23\n",
    "字串編號由0開始\n",
    "0對應的是1 \n",
    "1對應的是2\n",
    "以此類推\n",
    "\n",
    "1.創建一個變數x='python is good'，取出字串on跟good\n",
    "\n",
    "\n",
    "\n",
    "2.創建一個變數y='python is good'，請問當y[7:9]的結果是什麼，請用程式執行出結果\n",
    "\n",
    "'''\n"
   ]
  },
  {
   "cell_type": "code",
   "execution_count": 28,
   "metadata": {
    "collapsed": false,
    "deletable": true,
    "editable": true
   },
   "outputs": [
    {
     "name": "stdout",
     "output_type": "stream",
     "text": [
      "1.\n",
      "111\n",
      "222\n",
      "\n",
      "2.\n",
      "'\n",
      " \"\n"
     ]
    }
   ],
   "source": [
    "#Lab03:\n",
    "'''\n",
    "例:\n",
    "a='第一行\\n第二行'\n",
    "print(a)\n",
    "輸出結果為\n",
    "第一行\n",
    "第二行\n",
    "\n",
    "1.請利用跳脫字元輸出結果如下，用程式撰寫\n",
    "111\n",
    "222\n",
    "\n",
    "2.請利用跳脫字元，印出單引號跟雙引號\n",
    "\n",
    "'''\n"
   ]
  },
  {
   "cell_type": "code",
   "execution_count": 32,
   "metadata": {
    "collapsed": false,
    "deletable": true,
    "editable": true
   },
   "outputs": [
    {
     "name": "stdout",
     "output_type": "stream",
     "text": [
      "['test', 1, 2, 'aa', 123, [3, 4, 5]]\n"
     ]
    },
    {
     "data": {
      "text/plain": [
       "4"
      ]
     },
     "execution_count": 32,
     "metadata": {},
     "output_type": "execute_result"
    }
   ],
   "source": [
    "#Lab04:\n",
    "'''\n",
    "例:\n",
    "a=[1,2,'aa']\n",
    "print(a[0])  輸出的內容就是1  #串列是有順序性的\n",
    "print(a[0:2])  輸出的內容就是[1,2]   #串列是可以切割的取出前面資料\n",
    "a.append(123)\n",
    "print(a) 輸出的內容就是[1, 2, 'aa', 123] #串列是可以新增資料的\n",
    "a.insert(1, \"python\")\n",
    "print(a) 輸出的內容就是[1, 'python', 2, 'aa', 123] #串列可以指定座標位子加入字串\n",
    "a.extend(['a', 'b', 'c'])\n",
    "print(a) 輸出的內容就是[1, 'python', 2, 'aa', 123, 'a', 'b', 'c'] #.extend增加到串列的最後面\n",
    "a=[1,2,'aa']\n",
    "b=[3,4,'bb']\n",
    "c=a+b\n",
    "print(c) 輸出的內容就是[1, 2, 'aa', 3, 4, 'bb'] #串列是可以相加的\n",
    "\n",
    "[]取指定的元素位址\n",
    ".append 新增資料\n",
    ".insert 在指定位子插入元素\n",
    ".extend 最後面新增元素\n",
    "+ 可以把元素相加\n",
    "'''\n"
   ]
  },
  {
   "cell_type": "code",
   "execution_count": 35,
   "metadata": {
    "collapsed": false,
    "deletable": true,
    "editable": true
   },
   "outputs": [
    {
     "name": "stdout",
     "output_type": "stream",
     "text": [
      "\n",
      "x= [1, 2, 3, 'abc']\n",
      "\n",
      "x[2]= 3\n",
      "\n",
      "x= [1, 'Taiwan', 2, 3, 'abc']\n",
      "\n",
      "a= [1, 2, 3, 'abc']\n",
      "b= [4, 5]\n",
      "a+b= [1, 2, 3, 'abc', 4, 5]\n"
     ]
    }
   ],
   "source": [
    "#Lab05:\n",
    "'''\n",
    "1.請用程式宣告一個變數x其值為[1,2,3,\"abc\"]的串列\n",
    "\n",
    "\n",
    "2.呈上取出變數x元素位子為2的內容，並輸出結果\n",
    "\n",
    "\n",
    "3.呈上新增一個元素為\"Taiwan\"插入變數x元素位子1的地方，並輸出結果\n",
    "\n",
    "\n",
    "4.請用程式宣告2個串列變數並相加，然後輸出其結果\n",
    "\n",
    "'''\n"
   ]
  },
  {
   "cell_type": "code",
   "execution_count": 43,
   "metadata": {
    "collapsed": false,
    "deletable": true,
    "editable": true
   },
   "outputs": [
    {
     "name": "stdout",
     "output_type": "stream",
     "text": [
      "3\n",
      "0\n",
      "False\n",
      "True\n",
      "[1, 2, 1, 'aa']\n",
      "aa\n",
      "[1, 2, 1]\n",
      "[2, 1]\n"
     ]
    }
   ],
   "source": [
    "#Lab06\n",
    "'''\n",
    "串列還有搜尋功能，可以查詢你要的資料是否在該串列裡\n",
    "可以透過.index(元素)查詢元素位址\n",
    "但假如有兩筆重複的資料則只會顯示第一筆查到的位子\n",
    "\n",
    "使用 (元素) in (變數) 用來詢問元素在某個變數裡有嗎?\n",
    "\n",
    "a=[1,2,1,'aa']\n",
    "\n",
    "print(a.index(\"aa\")) 輸出的結果為3  #顯示出aa的元素位子為3\n",
    "print(a.index(1))   輸出的結果為0   #找到第一筆1出現的元素位子\n",
    "print(\"bb\" in a )   輸出的結果為False #在變數a裡面沒找到\"bb\"這個元素\n",
    "print(\"aa\" in a )   輸出的結果為True  #在變數a裡面有找到\"aa\"這個元素\n",
    "\n",
    "當然可以新增也可以查詢當然也能刪除了\n",
    ".pop  輸除最後一筆資料\n",
    ".remove(元素) 刪除找到第一筆的元素\n",
    "print(a)\n",
    "print(a.pop()) #刪除最後一筆元素資料'aa'\n",
    "print(a)\n",
    "a.remove(1)  #刪除元素位子為0的1\n",
    "print(a)\n",
    "\n",
    "'''\n",
    "a=[1,2,1,'aa']\n",
    "print(a.index(\"aa\"))\n",
    "print(a.index(1))\n",
    "print(\"bb\" in a )\n",
    "print(\"aa\" in a )\n",
    "print(a)\n",
    "print(a.pop())\n",
    "print(a)\n",
    "a.remove(1)\n",
    "print(a)"
   ]
  },
  {
   "cell_type": "code",
   "execution_count": 48,
   "metadata": {
    "collapsed": false,
    "deletable": true,
    "editable": true
   },
   "outputs": [
    {
     "name": "stdout",
     "output_type": "stream",
     "text": [
      "a= ['a', 'b', 'c', 66]\n",
      "\n",
      "1.\n",
      "1\n",
      "\n",
      "2.\n",
      "False\n",
      "\n",
      "3.\n",
      "b\n",
      "['a', 'c', 66]\n",
      "\n",
      "4.\n",
      "66\n",
      "['a', 'c']\n",
      "\n"
     ]
    }
   ],
   "source": [
    "#Lab07\n",
    "'''\n",
    "1.a=['a','b','c',66] 請找出'b'在串列中的位子\n",
    "\n",
    "2.呈上題，在a的串列中有沒有'd'這個元素\n",
    "\n",
    "3.呈上題，請刪除在a的串列元素位子為1的元素\n",
    "\n",
    "4.呈上題，請刪除在a的串列最後一個元素\n",
    "'''\n"
   ]
  },
  {
   "cell_type": "code",
   "execution_count": 49,
   "metadata": {
    "collapsed": false,
    "deletable": true,
    "editable": true
   },
   "outputs": [
    {
     "name": "stdout",
     "output_type": "stream",
     "text": [
      "[0, 1, 2, 3, 4]\n",
      "1-2-3\n",
      "['1', '2', '3']\n",
      "[1, 2, 3, 5, 7, 9]\n",
      "[9, 7, 5, 3, 2, 1]\n"
     ]
    }
   ],
   "source": [
    "#Lab08\n",
    "'''\n",
    "用Range產生一個有序的數字\n",
    "list(range(5)) 就會產生[0,1,2,3,4]\n",
    "\n",
    "#組合與拆解\n",
    "list1 = [\"1\", \"2\", \"3\"]\n",
    "print(\"-\".join(list1)) #就會輸出 1-2-3 在每個變數中間加入-\n",
    "\n",
    "str = '1-2-3'\n",
    "print(str.split('-')) #split('') 分割把''內的當作分割點 ['1', '2', '3']\n",
    "\n",
    "#排序、反轉\n",
    "list1 = [1, 5, 2, 7, 3, 9]\n",
    "list1.sort()  #.sort()排序由小到大\n",
    "print(list1)  #排序完的結果[1, 2, 3, 5, 7, 9]\n",
    "\n",
    "list.reverse() #.reverse()相反的排序[9, 7, 5, 3, 2, 1]\n",
    "print(list1)\n",
    "\n",
    "'''\n",
    "list0 = list(range(5))\n",
    "print (list0)\n",
    "\n",
    "list1 = ['1','2','3']\n",
    "print ('-'.join(list1))\n",
    "\n",
    "str = '1-2-3'\n",
    "print (str.split('-'))\n",
    "\n",
    "list2 = [1,5,2,7,3,9]\n",
    "list2.sort()\n",
    "print (list2)\n",
    "\n",
    "list2.reverse()\n",
    "print (list2)\n",
    "\n"
   ]
  },
  {
   "cell_type": "code",
   "execution_count": 64,
   "metadata": {
    "collapsed": false,
    "deletable": true,
    "editable": true
   },
   "outputs": [
    {
     "name": "stdout",
     "output_type": "stream",
     "text": [
      "1.\n",
      "[0, 1, 2, 3, 4, 5, 6, 7, 8, 9]\n",
      "\n",
      "2.\n",
      "a.b.c\n",
      "\n",
      "3.\n",
      "['a', 'b', 'c']\n",
      "\n",
      "4.\n",
      "[1, 3, 21, 17, 13, 91]\n",
      "大到小: [91, 13, 17, 21, 3, 1]\n",
      "小到大: [1, 3, 13, 17, 21, 91]\n"
     ]
    }
   ],
   "source": [
    "#Lab09\n",
    "'''\n",
    "1.請產生一個串列有序的數字0-9\n",
    "\n",
    "2.請把元素a=['a','b','c']組合成a.b.c\n",
    "\n",
    "3.呈上題把上題結果還原成['a','b','c']\n",
    "\n",
    "4.list1 = [1, 3, 21, 17, 13, 91] 請排序大到小、小到大\n",
    "'''\n"
   ]
  },
  {
   "cell_type": "code",
   "execution_count": 67,
   "metadata": {
    "collapsed": false,
    "deletable": true,
    "editable": true,
    "scrolled": true
   },
   "outputs": [
    {
     "name": "stdout",
     "output_type": "stream",
     "text": [
      "{'s', 't', 'e'}\n",
      "{1, 's', 't', 'python', 'e'}\n",
      "{'s', 'n', 'y', 'p', 'o', 'h', 't', 'e'}\n",
      "{'s', 't', 'python', 'e'}\n",
      "{'s', 'python', 'e'}\n"
     ]
    }
   ],
   "source": [
    "#Lab10\n",
    "'''\n",
    "set('')可以把''內的元素拆分進入集合中\n",
    "例如:set('test') 得到的結果就是{'e', 's', 't'}由於重複的部分會被排除掉所以只會顯示一個t\n",
    "\n",
    "新增\n",
    ".add()可以加入一個元素進入集合內\n",
    ".update()可以更新元素進入集合內\n",
    "例如:\n",
    "a = set('test')\n",
    "a.add('python') 得到的結果就會是 {'e', 'python', 's', 't'}\n",
    "a = set('test')\n",
    "a.update('python') 得到的結果就會是 {'e', 'h', 'n', 'o', 'p', 's', 't', 'y'}\n",
    "如果要更add更新一樣的結果的話要用\n",
    "a = set('test')\n",
    "a.update({'python'}) 得到的結果就會是 {'e', 's', 't', 'python'}\n",
    "\n",
    "刪除\n",
    ".remove()可以刪除一個集合的元素\n",
    "例如:\n",
    "a = {'e', 's', 't', 'python'}\n",
    "a.remove('t') 把集合內的元素t移除\n",
    "print(a)\n",
    "\n",
    "'''\n",
    "a = set('test')\n",
    "print (a)\n",
    "\n",
    "a.add(1)\n",
    "a.add('python')\n",
    "print (a)\n",
    "\n",
    "a = set('test')\n",
    "a.update('python')\n",
    "print (a)\n",
    "\n",
    "a = set('test')\n",
    "a.update({'python'})\n",
    "print (a)\n",
    "\n",
    "a.remove('t')\n",
    "print (a)"
   ]
  },
  {
   "cell_type": "code",
   "execution_count": 68,
   "metadata": {
    "collapsed": false,
    "deletable": true,
    "editable": true
   },
   "outputs": [
    {
     "name": "stdout",
     "output_type": "stream",
     "text": [
      "1.\n",
      "{'r', 'c', 'a', 'h', 't', 'e'}\n",
      "\n",
      "2.\n",
      "{'r', 'student', 'c', 'a', 'h', 't', 'e'}\n",
      "\n",
      "3.\n",
      "{'r', 'student', 'c', 'a', 'h', 'e'}\n"
     ]
    }
   ],
   "source": [
    "#Lab11\n",
    "'''\n",
    "1.把teacher這個元素拆分進入集合中\n",
    "\n",
    "2.呈上題，把元素'student'插入進上題建立好的集合中\n",
    "\n",
    "3.呈上題，把集合中的元素t給刪出\n",
    "'''\n"
   ]
  },
  {
   "cell_type": "code",
   "execution_count": 69,
   "metadata": {
    "collapsed": false,
    "deletable": true,
    "editable": true
   },
   "outputs": [
    {
     "name": "stdout",
     "output_type": "stream",
     "text": [
      "a-b的差集 =  {'a', 'b'}\n",
      "b-a的差集 =  {'f', 'd', 'e'}\n",
      "a&b的交集 =  {'c'}\n",
      "a|b的合集 =  {'c', 'f', 'a', 'd', 'b', 'e'}\n",
      "b!=a :  True\n",
      "b==a :  False\n",
      "\"b\" in a :  True\n",
      "\"b\" not in a :  False\n"
     ]
    }
   ],
   "source": [
    "#Lab12\n",
    "'''\n",
    "集合\n",
    "a=set('abc')\n",
    "b=set('cdef')\n",
    "差集 -\n",
    "print(a-b) 得到的結果就會是 {'a', 'b'}\n",
    "print(b-a) 得到的結果就會是 {'f', 'e', 'd'}\n",
    "交集 &\n",
    "print(a&b) 得到的結果就會是 {'c'}\n",
    "合集 |\n",
    "print(a|b) 得到的結果就會是 {'c', 'f', 'a', 'e', 'd', 'b'}\n",
    "不等於 !=\n",
    "print(b!=a) 得到的結果就會是 True\n",
    "等於 ==\n",
    "print(b==a) 得到的結果就會是 False\n",
    "是否在裡面 in \n",
    "print(\"b\" in a ) 得到的結果就會是True\n",
    "是否不再裡面 not in\n",
    "print(\"b\" not in a )得到的結果就會是False \n",
    "\n",
    "'''\n",
    "a = set('abc')\n",
    "b = set('cdef')\n",
    "print ('a-b的差集 = ',a-b)\n",
    "print ('b-a的差集 = ',b-a)\n",
    "print ('a&b的交集 = ',a&b)\n",
    "print ('a|b的合集 = ',a|b)\n",
    "print ('b!=a : ',b!=a)\n",
    "print ('b==a : ',b==a)\n",
    "print ('\\\"b\\\" in a : ','b' in a)\n",
    "print ('\\\"b\\\" not in a : ','b' not in a)"
   ]
  },
  {
   "cell_type": "code",
   "execution_count": 70,
   "metadata": {
    "collapsed": false,
    "deletable": true,
    "editable": true
   },
   "outputs": [
    {
     "name": "stdout",
     "output_type": "stream",
     "text": [
      "1.\n",
      "{'1'}\n",
      "\n",
      "2.\n",
      "{'2', '4', '3'}\n",
      "\n",
      "3.\n",
      "{'2', '5', '1', '4', '3'}\n",
      "\n",
      "4.\n",
      "True\n"
     ]
    }
   ],
   "source": [
    "#Lab13\n",
    "'''\n",
    "1.\n",
    "a=set('1234')\n",
    "b=set('4325')\n",
    "請把上述a跟b的差集算出來\n",
    "\n",
    "2.呈上題，請把a跟b的交集算出來\n",
    "\n",
    "3.呈上題，請把a跟b的合集算出來\n",
    "\n",
    "4.呈上題，'4'是不是在a集合裡\n",
    "\n",
    "'''\n",
    "\n"
   ]
  },
  {
   "cell_type": "code",
   "execution_count": 71,
   "metadata": {
    "collapsed": false,
    "deletable": true,
    "editable": true
   },
   "outputs": [
    {
     "name": "stdout",
     "output_type": "stream",
     "text": [
      "a['test'] =  go\n",
      "a =  {'test': 'go', 'test2': 'come', 'test3': 'back'}\n",
      "a =  {'test': 'going', 'test2': 'come', 'test3': 'back'}\n",
      "a =  {'test2': 'come', 'test3': 'back'}\n",
      "a =  {}\n"
     ]
    }
   ],
   "source": [
    "#Lab14\n",
    "'''\n",
    "字典\n",
    "a={'test':'go','test2':'come'}\n",
    "查詢字典的詞\n",
    "字典變數名[鍵名] 就可以查詢出值\n",
    "a['test'] 得到的結果就會是 go\n",
    "添加字典\n",
    "字典變數名[新添加的鍵名] = 對應鍵名的值\n",
    "a['test3']='back'\n",
    "print(a) 得到的結果就會是 {'test': 'go', 'test2': 'come', 'test3': 'back'}\n",
    "修正字典詞\n",
    "字典變數名[要修正的鍵名] = 新值\n",
    "a['test']='going'\n",
    "print(a) 得到的結果就會是 {'test': 'going', 'test2': 'come', 'test3': 'back'}\n",
    "刪除字典\n",
    "刪除對應的值:del 字典變數名[鍵名] 如果只輸入變數名稱就刪除此字典\n",
    "del a['test']\n",
    "print(a) 得到的結果就會是 {'test2': 'come', 'test3': 'back'}\n",
    "清空字典內容:字典變數名.clear() \n",
    "a.clear()\n",
    "print(a) 得到的結果就會是 {}\n",
    "\n",
    "'''\n",
    "a = {'test':'go','test2':'come'}\n",
    "print ('a[\\'test\\'] = ',a['test'])\n",
    "\n",
    "a['test3'] = 'back'\n",
    "print ('a = ',a)\n",
    "\n",
    "a['test'] = 'going'\n",
    "print ('a = ',a)\n",
    "\n",
    "del a['test']\n",
    "print ('a = ',a)\n",
    "\n",
    "a.clear()\n",
    "print ('a = ',a)"
   ]
  },
  {
   "cell_type": "code",
   "execution_count": 72,
   "metadata": {
    "collapsed": false,
    "deletable": true,
    "editable": true
   },
   "outputs": [
    {
     "name": "stdout",
     "output_type": "stream",
     "text": [
      "1.\n",
      "字典 python =  {'date': '3263', 'jupyter': 'notebook', 'libary': '1'}\n",
      "\n",
      "2.\n",
      "字典 python =  {'date': '3263', 'test': 'teaaher', 'jupyter': 'notebook', 'libary': '1'}\n",
      "\n",
      "3.\n",
      "字典 python =  {'date': '3263', 'test': 'teacher', 'jupyter': 'notebook', 'libary': '1'}\n",
      "\n",
      "4.\n",
      "delete key 'test' from python {'date': '3263', 'jupyter': 'notebook', 'libary': '1'}\n"
     ]
    }
   ],
   "source": [
    "#Lab15\n",
    "'''\n",
    "1.請自行建立一個字典\n",
    "\n",
    "2.呈上題，建立的字典插入一個'test':'teaaher'進去\n",
    "\n",
    "3.呈上題，'test':'teaaher'改成'test':'teacher'\n",
    "\n",
    "4.呈上題，把字典內的'test'刪除\n",
    "\n",
    "'''\n"
   ]
  },
  {
   "cell_type": "code",
   "execution_count": 76,
   "metadata": {
    "collapsed": false,
    "deletable": true,
    "editable": true
   },
   "outputs": [
    {
     "name": "stdout",
     "output_type": "stream",
     "text": [
      "(1, 2, 3)\n",
      "<class 'tuple'>\n",
      "(1, 2, 3)\n",
      "<class 'tuple'>\n",
      "(1, 2, 3)\n",
      "<class 'tuple'>\n",
      "(1, 2, 3)\n",
      "1\n",
      "(1, 2)\n"
     ]
    }
   ],
   "source": [
    "#Lab16\n",
    "'''\n",
    "元組創建\n",
    "a=(1,2,3)  這樣就能創建元組了\n",
    "也可以使用\n",
    "a=1,2,3  如果新建時沒有用(    )只要用,隔開就會當作元組創建\n",
    "\n",
    "也可以使用\n",
    "tuple()轉型\n",
    "a=tuple([1,2,3]) 把列表轉成元組\n",
    "\n",
    "元素變數名[索引下標]\n",
    "讀取元組內的數據與值\n",
    "\n",
    "例如:\n",
    "a[0]  這樣就會取出a裡面第0個元素 1\n",
    "也可以取多個值\n",
    "元素變數名[索引下標:(索引下標-1)]\n",
    "例如:\n",
    "a[0:2] 這樣就會取出a裡面第0跟第1個元素(1, 2)\n",
    "\n",
    "'''\n",
    "a = (1,2,3)\n",
    "print (a)\n",
    "print(type(a))\n",
    "\n",
    "a = 1,2,3\n",
    "print (a)\n",
    "print(type(a))\n",
    "\n",
    "a = tuple([1,2,3])\n",
    "print (a)\n",
    "print(type(a))\n",
    "\n",
    "print (a)\n",
    "print (a[0])\n",
    "print (a[0:2])"
   ]
  },
  {
   "cell_type": "code",
   "execution_count": 82,
   "metadata": {
    "collapsed": false,
    "deletable": true,
    "editable": true
   },
   "outputs": [
    {
     "name": "stdout",
     "output_type": "stream",
     "text": [
      "1.\n",
      "tuple a =  (1, 2, 3, 4, 5)\n",
      "tuple a type =  <class 'tuple'>\n",
      "\n",
      "2.\n",
      "tuple b =  ('a', 'b')\n",
      "tuple b type =  <class 'tuple'>\n",
      "\n",
      "3.\n",
      "tuple b[0] =  a\n",
      "\n",
      "4.\n",
      "tuple a 第2到第4個值 ＝ (2, 3, 4)\n"
     ]
    }
   ],
   "source": [
    "#Lab17\n",
    "'''\n",
    "1.請自行創建一個元組\n",
    "\n",
    "2.利用tuple()把列表['a','b']強制轉型成元組\n",
    "\n",
    "3.呈1題，取出元組內第0個元素\n",
    "\n",
    "4.呈上題，取出元組內多個元素\n",
    "\n",
    "'''\n"
   ]
  },
  {
   "cell_type": "code",
   "execution_count": null,
   "metadata": {
    "collapsed": true,
    "deletable": true,
    "editable": true
   },
   "outputs": [],
   "source": []
  }
 ],
 "metadata": {
  "kernelspec": {
   "display_name": "Python 3",
   "language": "python",
   "name": "python3"
  },
  "language_info": {
   "codemirror_mode": {
    "name": "ipython",
    "version": 3
   },
   "file_extension": ".py",
   "mimetype": "text/x-python",
   "name": "python",
   "nbconvert_exporter": "python",
   "pygments_lexer": "ipython3",
   "version": "3.4.3"
  }
 },
 "nbformat": 4,
 "nbformat_minor": 0
}

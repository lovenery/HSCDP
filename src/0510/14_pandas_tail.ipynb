{
 "cells": [
  {
   "cell_type": "code",
   "execution_count": 6,
   "metadata": {
    "collapsed": false,
    "deletable": true,
    "editable": true
   },
   "outputs": [
    {
     "name": "stdout",
     "output_type": "stream",
     "text": [
      "      0  1  2                                         3       4    5  6  7   \\\n",
      "887  887  0  2                     Montvila, Rev. Juozas    male   27  0  0   \n",
      "888  888  1  1              Graham, Miss. Margaret Edith  female   19  0  0   \n",
      "889  889  0  3  Johnston, Miss. Catherine Helen \"Carrie\"  female  NaN  1  2   \n",
      "890  890  1  1                     Behr, Mr. Karl Howell    male   26  0  0   \n",
      "891  891  0  3                       Dooley, Mr. Patrick    male   32  0  0   \n",
      "\n",
      "             8      9     10 11  \n",
      "887      211536     13   NaN  S  \n",
      "888      112053     30   B42  S  \n",
      "889  W./C. 6607  23.45   NaN  S  \n",
      "890      111369     30  C148  C  \n",
      "891      370376   7.75   NaN  Q  \n"
     ]
    }
   ],
   "source": [
    "import pandas as pd\n",
    "mydata = pd.read_csv('train.csv', header=None)\n",
    "print(mydata.tail())"
   ]
  }
 ],
 "metadata": {
  "kernelspec": {
   "display_name": "Python 3",
   "language": "python",
   "name": "python3"
  },
  "language_info": {
   "codemirror_mode": {
    "name": "ipython",
    "version": 3
   },
   "file_extension": ".py",
   "mimetype": "text/x-python",
   "name": "python",
   "nbconvert_exporter": "python",
   "pygments_lexer": "ipython3",
   "version": "3.4.3"
  }
 },
 "nbformat": 4,
 "nbformat_minor": 2
}

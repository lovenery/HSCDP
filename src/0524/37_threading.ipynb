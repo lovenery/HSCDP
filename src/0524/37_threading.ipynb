{
 "cells": [
  {
   "cell_type": "code",
   "execution_count": 15,
   "metadata": {
    "collapsed": false
   },
   "outputs": [
    {
     "name": "stdout",
     "output_type": "stream",
     "text": [
      "這是一個數字 :  0\n",
      "這是一個數字 :  1\n",
      "這是一個數字 :  2\n",
      "這是一個數字 :  3\n",
      "這是一個數字 :  4\n",
      "這是一個數字 :  5\n",
      "這是一個數字 :  6\n",
      "這是一個數字 :  7\n",
      "這是一個數字 :  8\n",
      "這是一個數字 :  9\n"
     ]
    }
   ],
   "source": [
    "def count(i):\n",
    "    print ('這是一個數字 : ',i)\n",
    "for i in range(0,10):\n",
    "    count(i)"
   ]
  },
  {
   "cell_type": "code",
   "execution_count": 16,
   "metadata": {
    "collapsed": false,
    "deletable": true,
    "editable": true
   },
   "outputs": [
    {
     "name": "stdout",
     "output_type": "stream",
     "text": [
      "這是一個數字 : 這是一個數字 :   這是一個數字 : 這是一個數字 : 這是一個數字 : 01   這是一個數字 : 這是一個數字 : 這是一個數字 : 這是一個數字 : 這是一個數字 : \n",
      "\n",
      "234     9\n",
      "\n",
      "\n",
      "5678\n",
      "\n",
      "\n",
      "\n",
      "\n"
     ]
    }
   ],
   "source": [
    "import threading\n",
    "def count(i):\n",
    "    print ('這是一個數字 : ',i)\n",
    "threads = []\n",
    "for i in range(0,10):\n",
    "    threads.append(threading.Thread(target=count, args=(i,)))\n",
    "for t in threads:\n",
    "    t.start()\n",
    "\n"
   ]
  },
  {
   "cell_type": "code",
   "execution_count": null,
   "metadata": {
    "collapsed": true
   },
   "outputs": [],
   "source": []
  }
 ],
 "metadata": {
  "kernelspec": {
   "display_name": "Python 3",
   "language": "python",
   "name": "python3"
  },
  "language_info": {
   "codemirror_mode": {
    "name": "ipython",
    "version": 3
   },
   "file_extension": ".py",
   "mimetype": "text/x-python",
   "name": "python",
   "nbconvert_exporter": "python",
   "pygments_lexer": "ipython3",
   "version": "3.4.3"
  }
 },
 "nbformat": 4,
 "nbformat_minor": 2
}
